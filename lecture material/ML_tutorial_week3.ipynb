{
 "cells": [
  {
   "cell_type": "markdown",
   "metadata": {},
   "source": [
    "## Linear Regression"
   ]
  },
  {
   "cell_type": "code",
   "execution_count": 49,
   "metadata": {
    "collapsed": true
   },
   "outputs": [],
   "source": [
    "import numpy as np\n",
    "import matplotlib.pyplot as plt\n",
    "%matplotlib inline"
   ]
  },
  {
   "cell_type": "code",
   "execution_count": 50,
   "metadata": {
    "collapsed": false
   },
   "outputs": [
    {
     "name": "stdout",
     "output_type": "stream",
     "text": [
      "[ 2.]\n",
      "5.0\n"
     ]
    }
   ],
   "source": [
    "from sklearn import linear_model\n",
    "\n",
    "def func_predict(x):\n",
    "    return 2*x + 5\n",
    "\n",
    "inp = np.random.uniform(-10,10,10)\n",
    "out = map(func_predict,inp)\n",
    "\n",
    "lin_reg_model = linear_model.LinearRegression()\n",
    "lin_reg_model.fit(inp.reshape(-1,1), out)\n",
    "\n",
    "print lin_reg_model.coef_\n",
    "print lin_reg_model.intercept_"
   ]
  },
  {
   "cell_type": "code",
   "execution_count": null,
   "metadata": {
    "collapsed": true
   },
   "outputs": [],
   "source": [
    "plt.plot(inp,out,'o')\n",
    "plt.plot(inp,lin_reg_model.predict(inp.reshape(-1,1)));"
   ]
  },
  {
   "cell_type": "code",
   "execution_count": null,
   "metadata": {
    "collapsed": true
   },
   "outputs": [],
   "source": [
    "def func_predict_with_error(x):\n",
    "    return 2*x + 5 + np.random.normal(scale=1,size=1)\n",
    "\n",
    "inp_error = np.random.uniform(-10,10,10)\n",
    "out_error = map(func_predict_with_error,inp_error)\n",
    "\n",
    "lin_reg_model_error = linear_model.LinearRegression()\n",
    "lin_reg_model_error.fit(inp_error.reshape(-1,1), out_error)\n",
    "\n",
    "print lin_reg_model_error.coef_\n",
    "print lin_reg_model_error.intercept_\n"
   ]
  },
  {
   "cell_type": "code",
   "execution_count": null,
   "metadata": {
    "collapsed": true
   },
   "outputs": [],
   "source": [
    "plt.plot(inp_error, out_error, 'o')\n",
    "plt.plot(inp_error, lin_reg_model_error.predict(inp_error.reshape(-1,1)));"
   ]
  },
  {
   "cell_type": "markdown",
   "metadata": {},
   "source": [
    "## Bias-Variance Tradeoff\n",
    "[Illustration for Bias Variable Tradeoff](http://scott.fortmann-roe.com/docs/BiasVariance.html)"
   ]
  },
  {
   "cell_type": "markdown",
   "metadata": {},
   "source": [
    "## Overfit and Underfit\n",
    "A model is said to **overfit** if it does not **generalizes** well for unknown data. The model overfits on training data but does not fit on unknown data.  \n",
    "**Underfitting** refers to a model that can neither model the training data not generalize to new data.  \n",
    "[Illustration of underfit and overfit](http://blog.fliptop.com/blog/2015/03/02/bias-variance-and-overfitting-machine-learning-overview/)"
   ]
  },
  {
   "cell_type": "markdown",
   "metadata": {
    "collapsed": true
   },
   "source": [
    "### Illustration of overfit and underfit through Non-linear regression\n",
    "\n",
    "[Evaluation metrics](http://scikit-learn.org/stable/modules/classes.html#module-sklearn.metrics)"
   ]
  },
  {
   "cell_type": "code",
   "execution_count": 93,
   "metadata": {
    "collapsed": false
   },
   "outputs": [
    {
     "data": {
      "image/png": "[encoded data removed]",
      "text/plain": [
       "<matplotlib.figure.Figure at 0x1126954d0>"
      ]
     },
     "metadata": {},
     "output_type": "display_data"
    }
   ],
   "source": [
    "from sklearn import metrics\n",
    "\n",
    "X_nonlinear_train = np.random.random(size=(20, 1))\n",
    "Y_nonlinear_train = 2 * X_nonlinear_train.squeeze() + 5 + 0.1*np.random.random(20)\n",
    "\n",
    "## We will use 20 points as training data and the rest 10 points as test data\n",
    "X_nonlinear_test = np.ones((10,1)) + np.random.random(size=(10,1))\n",
    "Y_nonlinear_test = 2 * X_nonlinear_test.squeeze() + 5 + 0.1*np.random.random(10)\n",
    "plt.plot(X_nonlinear_train, Y_nonlinear_train,'o');"
   ]
  },
  {
   "cell_type": "code",
   "execution_count": 94,
   "metadata": {
    "collapsed": false
   },
   "outputs": [
    {
     "name": "stdout",
     "output_type": "stream",
     "text": [
      "Mean absolute training error for linear model:  0.017731406622\n",
      "Mean absolute test error for linear model:  0.0451750158992\n"
     ]
    },
    {
     "data": {
      "image/png": "[encoded data removed]",
      "text/plain": [
       "<matplotlib.figure.Figure at 0x11a32f210>"
      ]
     },
     "metadata": {},
     "output_type": "display_data"
    }
   ],
   "source": [
    "lin_model = linear_model.LinearRegression()\n",
    "lin_model.fit(X_nonlinear_train, Y_nonlinear_train)\n",
    "\n",
    "print \"Mean absolute training error for linear model: \", metrics.mean_absolute_error(Y_nonlinear_train, lin_model.predict(X_nonlinear_train))\n",
    "print \"Mean absolute test error for linear model: \", metrics.mean_absolute_error(Y_nonlinear_test, lin_model.predict(X_nonlinear_test))\n",
    "plt.plot(X_nonlinear_train, Y_nonlinear_train,'o')\n",
    "plt.plot(X_nonlinear_train, lin_model.predict(X_nonlinear_train));"
   ]
  },
  {
   "cell_type": "code",
   "execution_count": 95,
   "metadata": {
    "collapsed": true
   },
   "outputs": [],
   "source": [
    "## Another way is numpy.polyfit\n",
    "from numpy import linspace\n",
    "from sklearn.preprocessing import PolynomialFeatures\n",
    "\n",
    "def polynomial_regression(X_train, Y_train, X_test, Y_test, deg=2):\n",
    "    poly = PolynomialFeatures(degree=deg)\n",
    "    X_poly_train = poly.fit_transform(X_train)\n",
    "    X_poly_test = poly.fit_transform(X_test)\n",
    "    poly_model = linear_model.LinearRegression()\n",
    "    poly_model.fit(X_poly_train, Y_train)\n",
    "    \n",
    "    x_sample = linspace(0, 1, 200)\n",
    "    y_sample = poly_model.intercept_\n",
    "    \n",
    "    for i in range(deg+1):\n",
    "        y_sample +=  poly_model.coef_[i]*x_sample**i\n",
    "    \n",
    "    print \"Mean absolute training error for degree={} is: {}\".format(deg, metrics.mean_absolute_error(Y_train, poly_model.predict(X_poly_train)))\n",
    "    print \"Mean absolute validation error for degree={} is: {}\".format(deg, metrics.mean_absolute_error(Y_test, poly_model.predict(X_poly_test)))\n",
    "    \n",
    "    plt.plot(X_train, Y_train, 'o')\n",
    "    plt.plot(x_sample, y_sample);"
   ]
  },
  {
   "cell_type": "code",
   "execution_count": 82,
   "metadata": {
    "collapsed": false
   },
   "outputs": [
    {
     "name": "stdout",
     "output_type": "stream",
     "text": [
      "Mean absolute training error for degree=2 is: 0.0234042901988\n",
      "Mean absolute validation error for degree=2 is: 0.0338388016634\n"
     ]
    },
    {
     "data": {
      "image/png": "[encoded data removed]",
      "text/plain": [
       "<matplotlib.figure.Figure at 0x11b2f5bd0>"
      ]
     },
     "metadata": {},
     "output_type": "display_data"
    }
   ],
   "source": [
    "polynomial_regression(X_nonlinear_train, Y_nonlinear_train, X_nonlinear_test, Y_nonlinear_test, 2)"
   ]
  },
  {
   "cell_type": "code",
   "execution_count": 83,
   "metadata": {
    "collapsed": false
   },
   "outputs": [
    {
     "name": "stdout",
     "output_type": "stream",
     "text": [
      "Mean absolute training error for degree=3 is: 0.0244759235489\n",
      "Mean absolute validation error for degree=3 is: 0.0272370976538\n"
     ]
    },
    {
     "data": {
      "image/png": "[encoded data removed]",
      "text/plain": [
       "<matplotlib.figure.Figure at 0x11a32f5d0>"
      ]
     },
     "metadata": {},
     "output_type": "display_data"
    }
   ],
   "source": [
    "polynomial_regression(X_nonlinear, Y_nonlinear, X_nonlinear_test, Y_nonlinear_test, 3)"
   ]
  },
  {
   "cell_type": "code",
   "execution_count": 96,
   "metadata": {
    "collapsed": false
   },
   "outputs": [
    {
     "name": "stdout",
     "output_type": "stream",
     "text": [
      "Mean absolute training error for degree=4 is: 0.0241488003033\n",
      "Mean absolute validation error for degree=4 is: 1.16623983284\n"
     ]
    },
    {
     "data": {
      "image/png": "[encoded data removed]",
      "text/plain": [
       "<matplotlib.figure.Figure at 0x11a26b5d0>"
      ]
     },
     "metadata": {},
     "output_type": "display_data"
    }
   ],
   "source": [
    "polynomial_regression(X_nonlinear, Y_nonlinear, X_nonlinear_test, Y_nonlinear_test, 4)"
   ]
  },
  {
   "cell_type": "code",
   "execution_count": 97,
   "metadata": {
    "collapsed": false
   },
   "outputs": [
    {
     "name": "stdout",
     "output_type": "stream",
     "text": [
      "Mean absolute training error for degree=5 is: 0.0204316091542\n",
      "Mean absolute validation error for degree=5 is: 47.0526279643\n"
     ]
    },
    {
     "data": {
      "image/png": "[encoded data removed]",
      "text/plain": [
       "<matplotlib.figure.Figure at 0x10dd22210>"
      ]
     },
     "metadata": {},
     "output_type": "display_data"
    }
   ],
   "source": [
    "polynomial_regression(X_nonlinear, Y_nonlinear, X_nonlinear_test, Y_nonlinear_test, 5)"
   ]
  },
  {
   "cell_type": "code",
   "execution_count": 98,
   "metadata": {
    "collapsed": false
   },
   "outputs": [
    {
     "name": "stdout",
     "output_type": "stream",
     "text": [
      "Mean absolute training error for degree=6 is: 0.0192531335169\n",
      "Mean absolute validation error for degree=6 is: 210.797386958\n"
     ]
    },
    {
     "data": {
      "image/png": "[encoded data removed]",
      "text/plain": [
       "<matplotlib.figure.Figure at 0x11a87c0d0>"
      ]
     },
     "metadata": {},
     "output_type": "display_data"
    }
   ],
   "source": [
    "polynomial_regression(X_nonlinear, Y_nonlinear, X_nonlinear_test, Y_nonlinear_test, 6)"
   ]
  },
  {
   "cell_type": "code",
   "execution_count": 99,
   "metadata": {
    "collapsed": false
   },
   "outputs": [
    {
     "name": "stdout",
     "output_type": "stream",
     "text": [
      "Mean absolute training error for degree=30 is: 0.00994797596161\n",
      "Mean absolute validation error for degree=30 is: 3.59442914564e+18\n"
     ]
    },
    {
     "data": {
      "image/png": "[encoded data removed]",
      "text/plain": [
       "<matplotlib.figure.Figure at 0x11275cc10>"
      ]
     },
     "metadata": {},
     "output_type": "display_data"
    }
   ],
   "source": [
    "polynomial_regression(X_nonlinear, Y_nonlinear, X_nonlinear_test, Y_nonlinear_test, 30)"
   ]
  },
  {
   "cell_type": "markdown",
   "metadata": {},
   "source": [
    "## Validation and Model Selection\n",
    "One of the most important pieces of machine learning is model validation: that is, checking how well your model fits a given dataset.\n",
    "Consider the digits example we've been looking at previously. How might we check how well our model fits the data?"
   ]
  },
  {
   "cell_type": "code",
   "execution_count": 32,
   "metadata": {
    "collapsed": true
   },
   "outputs": [],
   "source": [
    "from sklearn.datasets import load_digits\n",
    "digits = load_digits()\n",
    "X = digits.data\n",
    "y = digits.target"
   ]
  },
  {
   "cell_type": "markdown",
   "metadata": {},
   "source": [
    "Let's try our simplest classification algorithm: KNN classifier"
   ]
  },
  {
   "cell_type": "code",
   "execution_count": 41,
   "metadata": {
    "collapsed": true
   },
   "outputs": [],
   "source": [
    "from sklearn import ensemble\n",
    "import numpy\n",
    "\n",
    "KNN_classifier = neighbors.KNeighborsClassifier(n_neighbors=1)\n",
    "#KNN_classifier = ensemble.RandomForestClassifier(n_estimators=50)\n",
    "KNN_classifier.fit(X, y)\n",
    "y_pred = KNN_classifier.predict(X)"
   ]
  },
  {
   "cell_type": "code",
   "execution_count": 42,
   "metadata": {
    "collapsed": false,
    "scrolled": true
   },
   "outputs": [
    {
     "name": "stdout",
     "output_type": "stream",
     "text": [
      "1.00\n"
     ]
    }
   ],
   "source": [
    "from sklearn import metrics\n",
    "\n",
    "print(\"{0:.2f}\".format(metrics.accuracy_score(y, y_pred)))"
   ]
  },
  {
   "cell_type": "markdown",
   "metadata": {},
   "source": [
    "### Validation Sets\n",
    "Last week we discussed validation sets very briefly. It is a labeled dataset which is kept separate from training data. We use this data to test out the model on unseen data.\n",
    "Above we made the mistake of testing our data on the same set of data that was used for training. This is not generally a good idea. If we optimize our estimator this way, we will tend to **over-fit** the data: that is, we learn the noise.  "
   ]
  },
  {
   "cell_type": "code",
   "execution_count": 43,
   "metadata": {
    "collapsed": false
   },
   "outputs": [
    {
     "data": {
      "text/plain": [
       "((1257, 64), (540, 64))"
      ]
     },
     "execution_count": 43,
     "metadata": {},
     "output_type": "execute_result"
    }
   ],
   "source": [
    "from sklearn.cross_validation import train_test_split\n",
    "\n",
    "X_train, X_validation, y_train, y_validation = train_test_split(X, y, test_size=0.3)\n",
    "X_train.shape, X_validation.shape"
   ]
  },
  {
   "cell_type": "code",
   "execution_count": 46,
   "metadata": {
    "collapsed": false
   },
   "outputs": [
    {
     "name": "stdout",
     "output_type": "stream",
     "text": [
      "Validation Accuracy (neighbors = 1): 0.990740740741\n",
      "Validation Accuracy (neighbors = 2): 0.985185185185\n",
      "Validation Accuracy (neighbors = 3): 0.987037037037\n",
      "Validation Accuracy (neighbors = 4): 0.981481481481\n",
      "Validation Accuracy (neighbors = 5): 0.977777777778\n",
      "Validation Accuracy (neighbors = 6): 0.97962962963\n",
      "Validation Accuracy (neighbors = 7): 0.97962962963\n",
      "Validation Accuracy (neighbors = 8): 0.981481481481\n",
      "Validation Accuracy (neighbors = 9): 0.975925925926\n",
      "Validation Accuracy (neighbors = 10): 0.974074074074\n",
      "Validation Accuracy (neighbors = 11): 0.977777777778\n",
      "Validation Accuracy (neighbors = 12): 0.974074074074\n",
      "Validation Accuracy (neighbors = 13): 0.975925925926\n",
      "Validation Accuracy (neighbors = 14): 0.975925925926\n",
      "Validation Accuracy (neighbors = 15): 0.97037037037\n",
      "Validation Accuracy (neighbors = 16): 0.966666666667\n",
      "Validation Accuracy (neighbors = 17): 0.964814814815\n",
      "Validation Accuracy (neighbors = 18): 0.959259259259\n",
      "Validation Accuracy (neighbors = 19): 0.959259259259\n",
      "Validation Accuracy (neighbors = 20): 0.961111111111\n",
      "Validation Accuracy (neighbors = 21): 0.962962962963\n",
      "Validation Accuracy (neighbors = 22): 0.962962962963\n",
      "Validation Accuracy (neighbors = 23): 0.961111111111\n",
      "Validation Accuracy (neighbors = 24): 0.959259259259\n",
      "Validation Accuracy (neighbors = 25): 0.961111111111\n",
      "Validation Accuracy (neighbors = 26): 0.962962962963\n",
      "Validation Accuracy (neighbors = 27): 0.961111111111\n",
      "Validation Accuracy (neighbors = 28): 0.962962962963\n",
      "Validation Accuracy (neighbors = 29): 0.962962962963\n",
      "Validation Accuracy (neighbors = 30): 0.962962962963\n",
      "Validation Accuracy (neighbors = 31): 0.959259259259\n",
      "Validation Accuracy (neighbors = 32): 0.957407407407\n",
      "Validation Accuracy (neighbors = 33): 0.953703703704\n",
      "Validation Accuracy (neighbors = 34): 0.953703703704\n",
      "Validation Accuracy (neighbors = 35): 0.953703703704\n",
      "Validation Accuracy (neighbors = 36): 0.955555555556\n",
      "Validation Accuracy (neighbors = 37): 0.957407407407\n",
      "Validation Accuracy (neighbors = 38): 0.953703703704\n",
      "Validation Accuracy (neighbors = 39): 0.951851851852\n",
      "Validation Accuracy (neighbors = 40): 0.955555555556\n",
      "Validation Accuracy (neighbors = 41): 0.953703703704\n",
      "Validation Accuracy (neighbors = 42): 0.951851851852\n",
      "Validation Accuracy (neighbors = 43): 0.95\n",
      "Validation Accuracy (neighbors = 44): 0.95\n",
      "Validation Accuracy (neighbors = 45): 0.948148148148\n",
      "Validation Accuracy (neighbors = 46): 0.946296296296\n",
      "Validation Accuracy (neighbors = 47): 0.946296296296\n",
      "Validation Accuracy (neighbors = 48): 0.946296296296\n",
      "Validation Accuracy (neighbors = 49): 0.944444444444\n",
      "Validation Accuracy (neighbors = 50): 0.946296296296\n"
     ]
    }
   ],
   "source": [
    "for i in range(1,51):\n",
    "    knn = neighbors.KNeighborsClassifier(n_neighbors=i)\n",
    "    #knn = ensemble.RandomForestClassifier(n_estimators=i)\n",
    "    knn.fit(X_train, y_train)\n",
    "    y_pred = knn.predict(X_validation)\n",
    "    print \"Validation Accuracy (neighbors = {}): {}\".format(i, metrics.accuracy_score(y_validation, y_pred))"
   ]
  },
  {
   "cell_type": "markdown",
   "metadata": {},
   "source": [
    "### k-fold Cross Validation\n",
    "One problem with validation sets is that you \"lose\" some of the data. Above, we've only used 70% of the data for the training, and used 30% for the validation. We don't get to train with the remaining 30% of the data.  \n",
    "So to kind of normalize the result we perform k-fold cross validation. \n",
    "* Divide the labeled data into k equal parts\n",
    "* for i:=1 to k:\n",
    "* validation data = part[i]\n",
    "* train on remaining parts\n",
    "* get you prediction accuracy  \n",
    "With the above method we will have k accuracies.  **5-fold cross validation** is the most popular validation technique."
   ]
  },
  {
   "cell_type": "code",
   "execution_count": 29,
   "metadata": {
    "collapsed": false
   },
   "outputs": [
    {
     "name": "stdout",
     "output_type": "stream",
     "text": [
      "Accuracy (neighbors = 1): 0.96497520948\n",
      "Accuracy (neighbors = 2): 0.9666281215\n",
      "Accuracy (neighbors = 3): 0.966114353704\n",
      "Accuracy (neighbors = 4): 0.963905777966\n",
      "Accuracy (neighbors = 5): 0.962789911497\n",
      "Accuracy (neighbors = 6): 0.959418977829\n",
      "Accuracy (neighbors = 7): 0.960000663612\n",
      "Accuracy (neighbors = 8): 0.957772086865\n",
      "Accuracy (neighbors = 9): 0.956125316454\n",
      "Accuracy (neighbors = 10): 0.955015727202\n"
     ]
    }
   ],
   "source": [
    "from sklearn.cross_validation import cross_val_score\n",
    "\n",
    "for i in range(1,11):\n",
    "    cv = cross_val_score(neighbors.KNeighborsClassifier(n_neighbors=i), X, y, cv=5)\n",
    "    print \"Accuracy (neighbors = {}): {}\".format(i,cv.mean())"
   ]
  },
  {
   "cell_type": "code",
   "execution_count": null,
   "metadata": {
    "collapsed": true
   },
   "outputs": [],
   "source": []
  }
 ],
 "metadata": {
  "anaconda-cloud": {},
  "kernelspec": {
   "display_name": "Python [Root]",
   "language": "python",
   "name": "Python [Root]"
  },
  "language_info": {
   "codemirror_mode": {
    "name": "ipython",
    "version": 2
   },
   "file_extension": ".py",
   "mimetype": "text/x-python",
   "name": "python",
   "nbconvert_exporter": "python",
   "pygments_lexer": "ipython2",
   "version": "2.7.11"
  }
 },
 "nbformat": 4,
 "nbformat_minor": 0
}
