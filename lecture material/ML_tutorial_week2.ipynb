{
 "cells": [
  {
   "cell_type": "markdown",
   "metadata": {},
   "source": [
    "# Diving into the algorithms: Week-2\n",
    "\n",
    "All Machine Learning algorithms can be broadly into following categories:\n",
    "* **Supervised Learning**: In this category the algorithms build models by training them on labeled datasets. Example: SVM, k-Nearest Neighbor  \n",
    "* **Unsupervised Learning**: This learning is used when we don't have labeled datasets. Example: Clustering   \n",
    "* **Reinforcement Learning**: This is hybrid learning. It is mostly used in AI where environments are very dynamic. This type of learning involves states, actions and rewards. Here the models are trained by using the rewards received after performing an action."
   ]
  },
  {
   "cell_type": "markdown",
   "metadata": {},
   "source": [
    "# Supervised Learning\n",
    "In **Supervised Learning**, we have a dataset consisting of both features and labels. The task is to construct an estimator which is able to predict the label of an object given the set of features. A very popular and everyday-in-use example is **spam-mail filtering**.   \n",
    "\n",
    "Q: **What are features?**  \n",
    "Features can be understood as summary of some data. Different types of features:\n",
    "* Numerical: 1.6, 2.8 \n",
    "* Categorical: red, blue, green \n",
    "* Ordinal: Bad, Good, Excellent  \n",
    "\n",
    "**Note:** Although categorical and ordinal features might look similar but they have a very minor difference. Ordinal features have some order among values like __bad<good<excellent__ and categorical features don't have any order.  \n",
    "\n",
    "Q: ** What are labels?**  \n",
    "Labels are class (or categories to which the data belongs like spam or not-spam)\n",
    "\n",
    "Supervised learning is further broken down into two categories, classification and regression. In classification, the label is discrete, while in regression, the label is continuous.\n",
    "\n",
    "## Datasets\n",
    "* **Training Data**: Labeled dataset which is used to train a model  \n",
    "* **Test Data**: Dataset for which the labels need to be predicted using the trained model  \n",
    "* **Validation Data**: Labeled dataset used to evaluate a trained model  \n",
    "\n",
    "Data: Matrix of size m x n. (m rows and n columns)  \n",
    "Rows are data points and columns are the features."
   ]
  },
  {
   "cell_type": "code",
   "execution_count": 84,
   "metadata": {
    "collapsed": false
   },
   "outputs": [
    {
     "name": "stdout",
     "output_type": "stream",
     "text": [
      "(150, 4)\n"
     ]
    }
   ],
   "source": [
    "from sklearn import datasets\n",
    "\n",
    "iris = datasets.load_iris()\n",
    "X, y = iris.data, iris.target\n",
    "print X.shape"
   ]
  },
  {
   "cell_type": "markdown",
   "metadata": {},
   "source": [
    "## Classification"
   ]
  },
  {
   "cell_type": "markdown",
   "metadata": {},
   "source": [
    "### kNN (k-Nearest Neighbor)\n",
    "kNN is one of the simplest algorithms and easy to understand machine learning algorithm. Given a new data point to classify, the algorithm looks up in the labeled dataset and finds **k** data points nearest to the test data point. These data points are known as neighbors. Finally the label assigned to the data point is the majority class label among the neighbors."
   ]
  },
  {
   "cell_type": "code",
   "execution_count": 92,
   "metadata": {
    "collapsed": false
   },
   "outputs": [
    {
     "name": "stdout",
     "output_type": "stream",
     "text": [
      "[1]\n",
      "['versicolor']\n"
     ]
    }
   ],
   "source": [
    "from sklearn import neighbors, datasets\n",
    "\n",
    "iris = datasets.load_iris()\n",
    "X, y = iris.data, iris.target\n",
    "\n",
    "# create the model\n",
    "knn = neighbors.KNeighborsClassifier(n_neighbors=5)\n",
    "\n",
    "# fit the model\n",
    "knn.fit(X, y)\n",
    "\n",
    "# What kind of iris has 3cm x 5cm sepal and 4cm x 2cm petal?\n",
    "# call the \"predict\" method:\n",
    "result = knn.predict([[3, 5, 4, 2],])\n",
    "print result\n",
    "print(iris.target_names[result])"
   ]
  },
  {
   "cell_type": "markdown",
   "metadata": {},
   "source": [
    "### Support Vector Machine\n",
    "<img src=\"images/SVM.png\" width=50%>  \n",
    "Basically the algorithm tries to find optimal hyperplane that maximizes the margin between support vectors. Support vectors are the points that are closest to the hyperplane as shown in the figure (points wih circle around them). \n",
    "### [Slides on SVM and kernels](http://www.cs.umd.edu/~samir/498/SVM.pdf)"
   ]
  },
  {
   "cell_type": "code",
   "execution_count": 94,
   "metadata": {
    "collapsed": false
   },
   "outputs": [
    {
     "name": "stdout",
     "output_type": "stream",
     "text": [
      "['virginica']\n"
     ]
    },
    {
     "name": "stderr",
     "output_type": "stream",
     "text": [
      "/Users/sumaniksingh/anaconda/lib/python2.7/site-packages/sklearn/utils/validation.py:386: DeprecationWarning: Passing 1d arrays as data is deprecated in 0.17 and willraise ValueError in 0.19. Reshape your data either using X.reshape(-1, 1) if your data has a single feature or X.reshape(1, -1) if it contains a single sample.\n",
      "  DeprecationWarning)\n"
     ]
    }
   ],
   "source": [
    "from sklearn import svm\n",
    "\n",
    "svm_model = svm.SVC()\n",
    "svm_model.fit(X, y)\n",
    "result = svm_model.predict([3, 5, 4, 2])\n",
    "print result\n",
    "print iris.target_names[result]"
   ]
  },
  {
   "cell_type": "markdown",
   "metadata": {},
   "source": [
    "### Decision Trees\n",
    "<img src=\"images/DecisionTree.png\" width=50%>\n",
    "**Exercise**  \n",
    "* Should I play tennis if its *humid* and *sunny* outside?    \n",
    "* What about if its *raining* but the wind is *weak*?  \n",
    "\n",
    "### [Slides on Decision Trees](https://ai.vub.ac.be/sites/default/files/ch3.pdf)"
   ]
  },
  {
   "cell_type": "code",
   "execution_count": 96,
   "metadata": {
    "collapsed": false
   },
   "outputs": [
    {
     "name": "stdout",
     "output_type": "stream",
     "text": [
      "[1]\n",
      "['versicolor']\n"
     ]
    },
    {
     "name": "stderr",
     "output_type": "stream",
     "text": [
      "/Users/sumaniksingh/anaconda/lib/python2.7/site-packages/sklearn/utils/validation.py:386: DeprecationWarning: Passing 1d arrays as data is deprecated in 0.17 and willraise ValueError in 0.19. Reshape your data either using X.reshape(-1, 1) if your data has a single feature or X.reshape(1, -1) if it contains a single sample.\n",
      "  DeprecationWarning)\n"
     ]
    }
   ],
   "source": [
    "from sklearn import tree\n",
    "\n",
    "DT_model = tree.DecisionTreeClassifier()\n",
    "DT_model.fit(X, y)\n",
    "result = DT_model.predict([3, 5, 4, 2])\n",
    "print result\n",
    "print iris.target_names[result]"
   ]
  },
  {
   "cell_type": "markdown",
   "metadata": {},
   "source": [
    "### Random Forest\n",
    "Random forest, as the word suggests, is a group of decision trees.  It is good practice to have decision trees that are only 1 or 2 levels deep in random forest. Even though we only go one or two levels deep in the trees but still it is a very powerful algorithm and has been observed to perform better than Decision trees. There's a very popular saying in the community that   \n",
    "**\"Even the worst model of random forest is more robust than best decision trees.\"**  \n",
    "\n",
    "#### Algorithm\n",
    "* For each tree, we randomly sample with replace ment from training data set and then train the tree on that set\n",
    "* We do this thing for each tree in the forest.    \n",
    "Since each tree sees different subset of training dataset which is randomly sampled, that's why it is known as 'random' forest.  \n",
    "This is also know as **Ensemble Learning** where you take an ensemble of classifiers and then come up with final predicition using the result of each classifier."
   ]
  },
  {
   "cell_type": "code",
   "execution_count": 97,
   "metadata": {
    "collapsed": false
   },
   "outputs": [
    {
     "name": "stdout",
     "output_type": "stream",
     "text": [
      "[1]\n",
      "['versicolor']\n"
     ]
    },
    {
     "name": "stderr",
     "output_type": "stream",
     "text": [
      "/Users/sumaniksingh/anaconda/lib/python2.7/site-packages/sklearn/utils/validation.py:386: DeprecationWarning: Passing 1d arrays as data is deprecated in 0.17 and willraise ValueError in 0.19. Reshape your data either using X.reshape(-1, 1) if your data has a single feature or X.reshape(1, -1) if it contains a single sample.\n",
      "  DeprecationWarning)\n"
     ]
    }
   ],
   "source": [
    "from sklearn import ensemble\n",
    "\n",
    "RF_model = ensemble.RandomForestClassifier()\n",
    "RF_model.fit(X, y)\n",
    "result = RF_model.predict([3, 5, 4, 2])\n",
    "print result\n",
    "print iris.target_names[result]"
   ]
  },
  {
   "cell_type": "markdown",
   "metadata": {},
   "source": [
    "## Linear Regression"
   ]
  },
  {
   "cell_type": "code",
   "execution_count": 114,
   "metadata": {
    "collapsed": true
   },
   "outputs": [],
   "source": [
    "import numpy as np\n",
    "import matplotlib.pyplot as plt\n",
    "%matplotlib inline"
   ]
  },
  {
   "cell_type": "code",
   "execution_count": 115,
   "metadata": {
    "collapsed": false
   },
   "outputs": [
    {
     "name": "stdout",
     "output_type": "stream",
     "text": [
      "[ 2.]\n",
      "5.0\n"
     ]
    }
   ],
   "source": [
    "from sklearn import linear_model\n",
    "\n",
    "def func_predict(x):\n",
    "    return 2*x + 5\n",
    "\n",
    "inp = np.random.uniform(-10,10,10)\n",
    "out = map(func_predict,inp)\n",
    "\n",
    "lin_reg_model = linear_model.LinearRegression()\n",
    "lin_reg_model.fit(inp.reshape(-1,1), out)\n",
    "\n",
    "print lin_reg_model.coef_\n",
    "print lin_reg_model.intercept_"
   ]
  },
  {
   "cell_type": "code",
   "execution_count": 116,
   "metadata": {
    "collapsed": false
   },
   "outputs": [
    {
     "data": {
      "image/png": "[encoded data removed]",
      "text/plain": [
       "<matplotlib.figure.Figure at 0x116082390>"
      ]
     },
     "metadata": {},
     "output_type": "display_data"
    }
   ],
   "source": [
    "plt.plot(inp,out,'o')\n",
    "plt.plot(inp,lin_reg_model.predict(inp.reshape(-1,1)));"
   ]
  },
  {
   "cell_type": "code",
   "execution_count": 118,
   "metadata": {
    "collapsed": false
   },
   "outputs": [
    {
     "name": "stdout",
     "output_type": "stream",
     "text": [
      "[ 2.]\n",
      "5.0\n"
     ]
    }
   ],
   "source": [
    "def func_predict_with_error(x):\n",
    "    return 2*x + 5 + np.random.normal(scale=10,size=1)\n",
    "\n",
    "inp_error = np.random.uniform(-10,10,10)\n",
    "out_error = map(func_predict_with_error,inp_error)\n",
    "\n",
    "lin_reg_model_error = linear_model.LinearRegression()\n",
    "lin_reg_model_error.fit(inp_error.reshape(-1,1), out_error)\n",
    "\n",
    "print lin_reg_model.coef_\n",
    "print lin_reg_model.intercept_\n"
   ]
  },
  {
   "cell_type": "code",
   "execution_count": 119,
   "metadata": {
    "collapsed": false
   },
   "outputs": [
    {
     "data": {
      "image/png": "[encoded data removed]",
      "text/plain": [
       "<matplotlib.figure.Figure at 0x1155c12d0>"
      ]
     },
     "metadata": {},
     "output_type": "display_data"
    }
   ],
   "source": [
    "plt.plot(inp_error, out_error, 'o')\n",
    "plt.plot(inp_error, lin_reg_model_error.predict(inp_error.reshape(-1,1)));"
   ]
  },
  {
   "cell_type": "markdown",
   "metadata": {},
   "source": [
    "## Non linear Regression"
   ]
  },
  {
   "cell_type": "code",
   "execution_count": 120,
   "metadata": {
    "collapsed": false
   },
   "outputs": [
    {
     "data": {
      "image/png": "[encoded data removed]",
      "text/plain": [
       "<matplotlib.figure.Figure at 0x1161f3690>"
      ]
     },
     "metadata": {},
     "output_type": "display_data"
    }
   ],
   "source": [
    "X_nonlinear = np.random.random(size=(10, 1))\n",
    "Y_nonlinear = 2 * X_nonlinear.squeeze() + 5 + np.random.randn(10)\n",
    "plt.plot(X_nonlinear, Y_nonlinear,'o');"
   ]
  },
  {
   "cell_type": "code",
   "execution_count": 121,
   "metadata": {
    "collapsed": false
   },
   "outputs": [
    {
     "data": {
      "image/png": "[encoded data removed]",
      "text/plain": [
       "<matplotlib.figure.Figure at 0x114c10dd0>"
      ]
     },
     "metadata": {},
     "output_type": "display_data"
    }
   ],
   "source": [
    "lin_model = linear_model.LinearRegression()\n",
    "lin_model.fit(X_nonlinear, Y_nonlinear)\n",
    "\n",
    "plt.plot(X_nonlinear, Y_nonlinear,'o')\n",
    "plt.plot(X_nonlinear, lin_model.predict(X_nonlinear));"
   ]
  },
  {
   "cell_type": "code",
   "execution_count": 122,
   "metadata": {
    "collapsed": false
   },
   "outputs": [],
   "source": [
    "## Another way is numpy.polyfit\n",
    "from numpy import linspace\n",
    "from sklearn.preprocessing import PolynomialFeatures\n",
    "\n",
    "def polynomial_regression(X_train, Y_train, deg=2):\n",
    "    poly = PolynomialFeatures(degree=deg)\n",
    "    X_poly = poly.fit_transform(X_train)\n",
    "    poly_model = linear_model.LinearRegression()\n",
    "    poly_model.fit(X_poly, Y_train)\n",
    "    \n",
    "    x_sample = linspace(0, 1, 200)\n",
    "    y_sample = poly_model.intercept_\n",
    "    for i in range(deg+1):\n",
    "        y_sample +=  poly_model.coef_[i]*x_sample**i\n",
    "    #y_sample = deg2_model.coef_[2]*x_sample**2 + deg2_model.coef_[1]*x_sample + deg2_model.intercept_\n",
    "\n",
    "    plt.plot(X_train, Y_train, 'o')\n",
    "    plt.plot(x_sample, y_sample);\n",
    "    \n"
   ]
  },
  {
   "cell_type": "code",
   "execution_count": 123,
   "metadata": {
    "collapsed": false
   },
   "outputs": [
    {
     "data": {
      "image/png": "[encoded data removed]",
      "text/plain": [
       "<matplotlib.figure.Figure at 0x114b6e8d0>"
      ]
     },
     "metadata": {},
     "output_type": "display_data"
    }
   ],
   "source": [
    "polynomial_regression(X_nonlinear, Y_nonlinear,2)"
   ]
  },
  {
   "cell_type": "code",
   "execution_count": 129,
   "metadata": {
    "collapsed": false
   },
   "outputs": [
    {
     "data": {
      "image/png": "[encoded data removed]",
      "text/plain": [
       "<matplotlib.figure.Figure at 0x1140c1110>"
      ]
     },
     "metadata": {},
     "output_type": "display_data"
    }
   ],
   "source": [
    "polynomial_regression(X_nonlinear, Y_nonlinear,3)"
   ]
  },
  {
   "cell_type": "code",
   "execution_count": 127,
   "metadata": {
    "collapsed": false
   },
   "outputs": [
    {
     "data": {
      "image/png": "[encoded data removed]",
      "text/plain": [
       "<matplotlib.figure.Figure at 0x11409d710>"
      ]
     },
     "metadata": {},
     "output_type": "display_data"
    }
   ],
   "source": [
    "polynomial_regression(X_nonlinear, Y_nonlinear,4)"
   ]
  },
  {
   "cell_type": "code",
   "execution_count": 128,
   "metadata": {
    "collapsed": false
   },
   "outputs": [
    {
     "data": {
      "image/png": "[encoded data removed]",
      "text/plain": [
       "<matplotlib.figure.Figure at 0x11409d0d0>"
      ]
     },
     "metadata": {},
     "output_type": "display_data"
    }
   ],
   "source": [
    "polynomial_regression(X_nonlinear, Y_nonlinear,5)"
   ]
  },
  {
   "cell_type": "markdown",
   "metadata": {},
   "source": [
    "### Random Forest Regression"
   ]
  },
  {
   "cell_type": "code",
   "execution_count": 113,
   "metadata": {
    "collapsed": false
   },
   "outputs": [
    {
     "name": "stdout",
     "output_type": "stream",
     "text": [
      "0.21840637415\n"
     ]
    }
   ],
   "source": [
    "from sklearn import metrics\n",
    "\n",
    "RF_reg_model = ensemble.RandomForestRegressor()\n",
    "RF_reg_model.fit(X_nonlinear, Y_nonlinear)\n",
    "Y_predicted = RF_reg_model.predict(X_nonlinear)\n",
    "print metrics.mean_absolute_error(Y_nonlinear,Y_predicted)"
   ]
  },
  {
   "cell_type": "code",
   "execution_count": null,
   "metadata": {
    "collapsed": true
   },
   "outputs": [],
   "source": []
  }
 ],
 "metadata": {
  "anaconda-cloud": {},
  "kernelspec": {
   "display_name": "Python [Root]",
   "language": "python",
   "name": "Python [Root]"
  },
  "language_info": {
   "codemirror_mode": {
    "name": "ipython",
    "version": 2
   },
   "file_extension": ".py",
   "mimetype": "text/x-python",
   "name": "python",
   "nbconvert_exporter": "python",
   "pygments_lexer": "ipython2",
   "version": "2.7.11"
  }
 },
 "nbformat": 4,
 "nbformat_minor": 0
}
