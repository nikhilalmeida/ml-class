{
 "cells": [
  {
   "cell_type": "markdown",
   "metadata": {},
   "source": [
    "## Artificial Neural Network and TensorFlow\n",
    "[Artificial Neural Network](https://en.wikipedia.org/wiki/Artificial_neural_network) (ANNs) are a family of models inspired by biological neural networks which are used to estimate or approximate functions that can depend on a large number of inputs and are generally unknown.  \n",
    "\n",
    "### Biological Neuron\n",
    "* There are about one hundred billion neurons in human brain.\n",
    "* Brain is an extremeley interconnected networks of neurons. \n",
    "* A neuron collects inputs using a structure called dendrites, the neuron effectively sums all of these inputs from the dendrites and if the resulting value is greater than it's firing threshold, the neuron fires.\n",
    "* When the neuron fires it sends an electrical impulse through the neuron's axon to it's boutons. These boutons can then be networked to thousands of other neurons via connections called synapses.\n",
    "<img src=\"images/biological_neuron.png\" width=50%>  \n",
    "\n",
    "### Perceptron (or Artificial Neuron)\n",
    "A typical perceptron will have many inputs and these inputs are all individually weighted. The perceptron weights can either amplify or deamplify the original input signal. For example, if the input is 1 and the input's weight is 0.2 the input will be decreased to 0.2. These weighted signals are then added together and passed into the activation function. The activation function is used to convert the input into a more useful output. There are many different types of activation function but one of the simplest would be step function. A step function will typically output a 1 if the input is higher than a certain threshold, otherwise it's output will be 0.  \n",
    "\n",
    "**Two step process**\n",
    "1. Calculate the weighted sum\n",
    "2. Use the activation function to decide the output of of the neuron\n",
    "<img src=\"images/perceptron.png\" width=50%>\n",
    "\n",
    "**Types of activation functions**\n",
    "1. [Step function](https://en.wikipedia.org/wiki/Step_function)  \n",
    "2. [ReLU (Rectified Linear units)](https://en.wikipedia.org/wiki/Rectifier_(neural_networks))\n",
    "3. [Sigmoid](https://en.wikipedia.org/wiki/Sigmoid_function) \n",
    "4. [tanh](https://en.wikipedia.org/wiki/Hyperbolic_function)\n",
    "5. [Softmax](https://en.wikipedia.org/wiki/Softmax_function)"
   ]
  },
  {
   "cell_type": "code",
   "execution_count": 1,
   "metadata": {
    "collapsed": false
   },
   "outputs": [],
   "source": [
    "import numpy as np\n",
    "\n",
    "def step_activation_function(val, threshold):\n",
    "    if val>threshold:\n",
    "        return 1\n",
    "    else:\n",
    "        return 0\n",
    "    \n",
    "def weighted_sum(inp, wt):\n",
    "    temp_sum = 0\n",
    "    for i in range(len(inp)):\n",
    "        temp_sum += inp[i]*wt[i]\n",
    "    return temp_sum\n",
    "    "
   ]
  },
  {
   "cell_type": "code",
   "execution_count": 4,
   "metadata": {
    "collapsed": false
   },
   "outputs": [
    {
     "name": "stdout",
     "output_type": "stream",
     "text": [
      "0\n"
     ]
    }
   ],
   "source": [
    "#### OR Gate\n",
    "# Input_1 Input_2 Output\n",
    "#    0       0      0\n",
    "#    0       1      1\n",
    "#    1       0      1\n",
    "#    1       1      1\n",
    "\n",
    "inp = [0, 0]\n",
    "wt = [2.0, 2.0]\n",
    "threshold = 1.0\n",
    "\n",
    "## Step 1: Calculate the weighted sum\n",
    "wt_sum = weighted_sum(inp, wt)\n",
    "\n",
    "## Step 2: Use the activation function to decide the output of of the neuron\n",
    "out = step_activation_function(wt_sum, threshold)\n",
    "print out\n"
   ]
  },
  {
   "cell_type": "markdown",
   "metadata": {},
   "source": [
    "### XOR gate problem\n",
    "Life was simple back then! Things were going good with single layer perceptron. Boats were sailing, computers were happily running in one big giant hall! Until one day, two researchers: Marvin Minsky and Seymour Papert published a paper that demonstrated two major problems with single layer perceptron: \n",
    "* Single layer perceptron could not learn xor gate (or any data that is not linearly separable)\n",
    "* The \"tiny GIANT computers\" back then didn't have enough processing power to effectively handle the long run time required by large neural networks"
   ]
  },
  {
   "cell_type": "markdown",
   "metadata": {},
   "source": [
    "### Neural Network\n",
    "<img src=\"images/neural_network.png\" width=40%>"
   ]
  },
  {
   "cell_type": "markdown",
   "metadata": {},
   "source": [
    "#### Feed forward Neural Network\n",
    "A [feedforward neural network](https://en.wikipedia.org/wiki/Feedforward_neural_network) is an artificial neural network wherein connections between the units do not form a cycle.  \n",
    "* Input Layer: Nodes of the network that accept input values. In the network below, **nodes 1, 2 and 3** are **input nodes**. They do not compute anything, but simply pass the values to the processing nodes in the next layers.\n",
    "* Ouput Layer: These nodes provide us with the output. **Nodes (6 and 7)** are associated with the **output variables**.\n",
    "* Hidden Layer: If neural network was a black box then thesea re the layers that are not visible. They compute values depending on the weight values between interconnections. **Nodes (4 and 5)** are **hidden nodes**.\n",
    "\n",
    "<img src=\"images/feed_forward.png\" width=40%>\n",
    "\n",
    "#### Exercise:\n",
    "<img src=\"images/feed_forward_example.png\" width=45% align=\"middle\">\n",
    "\n",
    "### Training the network (Learning the weights)  \n",
    "1. Randomly initialize all the weights ($w_{ij}$)\n",
    "2. Repeat:  \n",
    "  * Feed the network with an input x from one of the examples in the training set  \n",
    "  * Compute the network’s output f(x)  \n",
    "  * Change the weights $w_{ij}$ of the nodes  \n",
    "3. Until the error is small\n",
    "\n",
    "### Back propagation algorithm (How to update the weights)\n",
    "<img src=\"images/backpropagation.png\" width=50%>\n",
    "#### Further readings on backpropagation\n",
    "[Derivation of backpropagation rule](https://www.cs.swarthmore.edu/~meeden/cs81/s10/BackPropDeriv.pdf)  \n",
    "[Detailed step by step backpropagation explained](https://mattmazur.com/2015/03/17/a-step-by-step-backpropagation-example/)"
   ]
  },
  {
   "cell_type": "markdown",
   "metadata": {},
   "source": [
    "## Brief Introduction to TensorFlow\n",
    "TensorFlow is an open source software library for numerical computation using data flow graphs. Nodes in the graph represent mathematical operations, while the graph edges represent the multidimensional data arrays (tensors) that flow between them.  \n",
    "### Overview\n",
    "* Need to imagine computations as graphs\n",
    "* Nodes in the graph are operations\n",
    "* Edges are data. Data in tensorflow are called Tensors.\n",
    "* Example: Tensor representing a batch of colored images will be of dimensions [batch size, height, width, color channel(RBG)]\n",
    "* To start computation, the graph must be launched in a Session\n",
    "* Session places the graph ops onto Devices, such as CPUs or GPUs\n",
    "* Methods return output in the form of numpy.ndarray in case of Python\n",
    "\n",
    "### Building the graph\n",
    "* Start with constant values because they don't need any input\n",
    "* Pass the output of this constant op to other op nodes that do computation\n",
    "* TensorFlow provides us with a default graph\n",
    "* While adding ops you need to specify the graph to which the node is being added or else it will be added to the default graph. But since we generally work with single graphs this won't be required much\n"
   ]
  },
  {
   "cell_type": "code",
   "execution_count": 24,
   "metadata": {
    "collapsed": false
   },
   "outputs": [
    {
     "name": "stdout",
     "output_type": "stream",
     "text": [
      "Hello, TensorFlow!\n",
      "Tensor(\"Shape_1:0\", shape=(0,), dtype=int32)\n"
     ]
    }
   ],
   "source": [
    "## Example of constant op\n",
    "\n",
    "import tensorflow as tf\n",
    "\n",
    "hello = tf.constant('Hello, TensorFlow!')\n",
    "sess = tf.Session()\n",
    "print sess.run(hello)\n",
    "print tf.shape(hello)\n",
    "sess.close()"
   ]
  },
  {
   "cell_type": "code",
   "execution_count": 16,
   "metadata": {
    "collapsed": false
   },
   "outputs": [
    {
     "name": "stdout",
     "output_type": "stream",
     "text": [
      "[ 6.]\n"
     ]
    }
   ],
   "source": [
    "val = [tf.constant([1.]), tf.constant([2.]), tf.constant([3.])]\n",
    "sum_arr = tf.add_n(val)\n",
    "\n",
    "with tf.Session() as sess:\n",
    "    print sess.run(sum_arr)\n"
   ]
  },
  {
   "cell_type": "code",
   "execution_count": 12,
   "metadata": {
    "collapsed": false
   },
   "outputs": [
    {
     "name": "stdout",
     "output_type": "stream",
     "text": [
      "[[  7.  10.]\n",
      " [ 15.  22.]]\n"
     ]
    }
   ],
   "source": [
    "import numpy as np\n",
    "\n",
    "#matrix1 = tf.Variable([[3., 3.]])\n",
    "#matrix2 = tf.Variable([[2.],[2.]])\n",
    "matrix1 = tf.Variable(np.matrix('1. 2.; 3. 4.'))\n",
    "matrix2 = tf.Variable(np.matrix('1. 2.; 3. 4.'))\n",
    "matrix3 = tf.Variable(np.matrix('1. 2.; 3. 4.'))\n",
    "product = tf.matmul(matrix1, matrix2)\n",
    "\n",
    "sess = tf.Session()\n",
    "\n",
    "#sess.run(matrix1)\n",
    "#sess.run(matrix2)\n",
    "matrix1.initializer.run(session=sess)\n",
    "matrix2.initializer.run(session=sess)\n",
    "matrix3.initializer.run(session=sess)\n",
    "\n",
    "print sess.run(product)\n",
    "sess.close()"
   ]
  },
  {
   "cell_type": "markdown",
   "metadata": {},
   "source": [
    "#### Preparing the data sets"
   ]
  },
  {
   "cell_type": "code",
   "execution_count": 25,
   "metadata": {
    "collapsed": false
   },
   "outputs": [
    {
     "name": "stdout",
     "output_type": "stream",
     "text": [
      "Successfully downloaded train-images-idx3-ubyte.gz 9912422 bytes.\n",
      "Extracting /tmp/data/train-images-idx3-ubyte.gz\n",
      "Successfully downloaded train-labels-idx1-ubyte.gz 28881 bytes.\n",
      "Extracting /tmp/data/train-labels-idx1-ubyte.gz\n",
      "Successfully downloaded t10k-images-idx3-ubyte.gz 1648877 bytes.\n",
      "Extracting /tmp/data/t10k-images-idx3-ubyte.gz\n",
      "Successfully downloaded t10k-labels-idx1-ubyte.gz 4542 bytes.\n",
      "Extracting /tmp/data/t10k-labels-idx1-ubyte.gz\n"
     ]
    }
   ],
   "source": [
    "# Import MNIST data\n",
    "from tensorflow.examples.tutorials.mnist import input_data\n",
    "mnist = input_data.read_data_sets(\"/tmp/data/\", one_hot=True)\n",
    "\n",
    "import tensorflow as tf"
   ]
  },
  {
   "cell_type": "code",
   "execution_count": 28,
   "metadata": {
    "collapsed": true
   },
   "outputs": [],
   "source": [
    "# Parameters\n",
    "learning_rate = 0.001\n",
    "training_epochs = 15\n",
    "batch_size = 100\n",
    "display_step = 1\n",
    "\n",
    "# Network Parameters\n",
    "n_hidden_1 = 256 # 1st layer number of features\n",
    "n_hidden_2 = 256 # 2nd layer number of features\n",
    "n_input = 784 # MNIST data input (img shape: 28*28)\n",
    "n_classes = 10 # MNIST total classes (0-9 digits)\n",
    "\n",
    "# tf Graph input\n",
    "x = tf.placeholder(\"float\", [None, n_input])\n",
    "y = tf.placeholder(\"float\", [None, n_classes])"
   ]
  },
  {
   "cell_type": "code",
   "execution_count": 29,
   "metadata": {
    "collapsed": true
   },
   "outputs": [],
   "source": [
    "# Create model\n",
    "def multilayer_perceptron(x, weights, biases):\n",
    "    # Hidden layer with RELU activation\n",
    "    layer_1 = tf.add(tf.matmul(x, weights['h1']), biases['b1'])\n",
    "    layer_1 = tf.nn.relu(layer_1)\n",
    "    # Hidden layer with RELU activation\n",
    "    layer_2 = tf.add(tf.matmul(layer_1, weights['h2']), biases['b2'])\n",
    "    layer_2 = tf.nn.relu(layer_2)\n",
    "    # Output layer with linear activation\n",
    "    out_layer = tf.add(tf.matmul(layer_2, weights['out']), biases['out'])\n",
    "    return out_layer"
   ]
  },
  {
   "cell_type": "code",
   "execution_count": 30,
   "metadata": {
    "collapsed": true
   },
   "outputs": [],
   "source": [
    "# Store layers weight & bias\n",
    "weights = {\n",
    "    'h1': tf.Variable(tf.random_normal([n_input, n_hidden_1])),\n",
    "    'h2': tf.Variable(tf.random_normal([n_hidden_1, n_hidden_2])),\n",
    "    'out': tf.Variable(tf.random_normal([n_hidden_2, n_classes]))\n",
    "}\n",
    "biases = {\n",
    "    'b1': tf.Variable(tf.random_normal([n_hidden_1])),\n",
    "    'b2': tf.Variable(tf.random_normal([n_hidden_2])),\n",
    "    'out': tf.Variable(tf.random_normal([n_classes]))\n",
    "}\n",
    "\n",
    "# Construct model\n",
    "pred = multilayer_perceptron(x, weights, biases)\n",
    "\n",
    "# Define loss and optimizer\n",
    "cost = tf.reduce_mean(tf.nn.softmax_cross_entropy_with_logits(pred, y))\n",
    "optimizer = tf.train.AdamOptimizer(learning_rate=learning_rate).minimize(cost)\n",
    "\n",
    "# Initializing the variables\n",
    "init = tf.initialize_all_variables()"
   ]
  },
  {
   "cell_type": "code",
   "execution_count": 31,
   "metadata": {
    "collapsed": false
   },
   "outputs": [
    {
     "name": "stdout",
     "output_type": "stream",
     "text": [
      "Epoch: 0001 cost= 207.271012617\n",
      "Epoch: 0002 cost= 48.447902514\n",
      "Epoch: 0003 cost= 30.208757194\n",
      "Epoch: 0004 cost= 21.048181044\n",
      "Epoch: 0005 cost= 15.308550797\n",
      "Epoch: 0006 cost= 11.327153586\n",
      "Epoch: 0007 cost= 8.533965114\n",
      "Epoch: 0008 cost= 6.286013188\n",
      "Epoch: 0009 cost= 4.861007585\n",
      "Epoch: 0010 cost= 3.582137471\n",
      "Epoch: 0011 cost= 2.740366647\n",
      "Epoch: 0012 cost= 1.940742333\n",
      "Epoch: 0013 cost= 1.468763890\n",
      "Epoch: 0014 cost= 1.191718452\n",
      "Epoch: 0015 cost= 1.009431638\n",
      "Optimization Finished!\n",
      "Accuracy: 0.9466\n"
     ]
    }
   ],
   "source": [
    "# Launch the graph\n",
    "with tf.Session() as sess:\n",
    "    sess.run(init)\n",
    "\n",
    "    # Training cycle\n",
    "    for epoch in range(training_epochs):\n",
    "        avg_cost = 0.\n",
    "        total_batch = int(mnist.train.num_examples/batch_size)\n",
    "        # Loop over all batches\n",
    "        for i in range(total_batch):\n",
    "            batch_x, batch_y = mnist.train.next_batch(batch_size)\n",
    "            # Run optimization op (backprop) and cost op (to get loss value)\n",
    "            _, c = sess.run([optimizer, cost], feed_dict={x: batch_x,\n",
    "                                                          y: batch_y})\n",
    "            # Compute average loss\n",
    "            avg_cost += c / total_batch\n",
    "        # Display logs per epoch step\n",
    "        if epoch % display_step == 0:\n",
    "            print \"Epoch:\", '%04d' % (epoch+1), \"cost=\", \\\n",
    "                \"{:.9f}\".format(avg_cost)\n",
    "    print \"Optimization Finished!\"\n",
    "\n",
    "    # Test model\n",
    "    correct_prediction = tf.equal(tf.argmax(pred, 1), tf.argmax(y, 1))\n",
    "    # Calculate accuracy\n",
    "    accuracy = tf.reduce_mean(tf.cast(correct_prediction, \"float\"))\n",
    "    print \"Accuracy:\", accuracy.eval({x: mnist.test.images, y: mnist.test.labels})"
   ]
  },
  {
   "cell_type": "code",
   "execution_count": null,
   "metadata": {
    "collapsed": false
   },
   "outputs": [],
   "source": [
    "import tensorflow.contrib.learn as skflow\n",
    "from sklearn import metrics\n",
    "\n",
    "mnist = input_data.read_data_sets(\"/tmp/data/\", one_hot=False)\n",
    "\n",
    "classifier = skflow.TensorFlowDNNClassifier(hidden_units=[256, 256], n_classes=10)\n",
    "classifier.fit(mnist.train.images, mnist.train.labels.astype(int))\n",
    "score = metrics.accuracy_score(mnist.test.labels.astype(int), classifier.predict(mnist.test.images))\n",
    "print(\"Accuracy: %f\" % score)"
   ]
  },
  {
   "cell_type": "markdown",
   "metadata": {
    "collapsed": true
   },
   "source": [
    "#### Recurrent Neural Networks\n",
    "A recurrent neural network (RNN) is a class of artificial neural network where connections between units form a directed cycle. This creates an internal state of the network which allows it to exhibit dynamic temporal behavior. Unlike feedforward neural networks, RNNs can use their internal memory to process arbitrary sequences of inputs. This makes them applicable to tasks such as unsegmented connected handwriting recognition or speech recognition.  \n",
    "**Analogy to Human Brain**: Try speaking out loud from A to Z. When you are done, try it in reverse i.e Z to A. You will find that A to Z is a lot easier then in reverse order. This is because our entire life we have been learning A to Z and not in reverse order. So brain does some optimization on it's own and remembers the sequence. If I ask you what is fifth letter from D in correct order. It is tough to tell right away! \n",
    "\n",
    "#### Vanishing gradient problem and Exploding gradient problem\n",
    "The **vanishing gradient problem** is a difficulty found in training artificial neural networks with gradient-based learning methods and backpropagation. In such methods, each of the neural network's weights receives an update proportional to the gradient of the error function with respect to the current weight in each iteration of training. Traditional activation functions such as the hyperbolic tangent function have gradients in the range (−1, 1) or [0, 1), and backpropagation computes gradients by the chain rule. This has the effect of multiplying n of these small numbers to compute gradients of the \"front\" layers in an n-layer network, meaning that the gradient (error signal) decreases exponentially with n and the front layers train very slowly.  \n",
    "When activation functions are used whose derivatives can take on larger values, one risks encountering the related **exploding gradient problem**.\n",
    "\n",
    "##### [LSTM](http://colah.github.io/posts/2015-08-Understanding-LSTMs/) \n"
   ]
  },
  {
   "cell_type": "code",
   "execution_count": 35,
   "metadata": {
    "collapsed": false
   },
   "outputs": [
    {
     "name": "stdout",
     "output_type": "stream",
     "text": [
      "Extracting /tmp/data/train-images-idx3-ubyte.gz\n",
      "Extracting /tmp/data/train-labels-idx1-ubyte.gz\n",
      "Extracting /tmp/data/t10k-images-idx3-ubyte.gz\n",
      "Extracting /tmp/data/t10k-labels-idx1-ubyte.gz\n"
     ]
    }
   ],
   "source": [
    "from tensorflow.python.ops import rnn, rnn_cell\n",
    "\n",
    "mnist = input_data.read_data_sets(\"/tmp/data/\", one_hot=True)\n",
    "\n",
    "# Parameters\n",
    "learning_rate = 0.001\n",
    "training_iters = 100000\n",
    "batch_size = 128\n",
    "display_step = 10\n",
    "\n",
    "# Network Parameters\n",
    "n_input = 28 # MNIST data input (img shape: 28*28)\n",
    "n_steps = 28 # timesteps\n",
    "n_hidden = 128 # hidden layer num of features\n",
    "n_classes = 10 # MNIST total classes (0-9 digits)\n",
    "\n",
    "# tf Graph input\n",
    "x = tf.placeholder(\"float\", [None, n_steps, n_input])\n",
    "y = tf.placeholder(\"float\", [None, n_classes])\n",
    "\n",
    "# Define weights\n",
    "weights = {\n",
    "    'out': tf.Variable(tf.random_normal([n_hidden, n_classes]))\n",
    "}\n",
    "biases = {\n",
    "    'out': tf.Variable(tf.random_normal([n_classes]))\n",
    "}"
   ]
  },
  {
   "cell_type": "code",
   "execution_count": 36,
   "metadata": {
    "collapsed": false
   },
   "outputs": [
    {
     "name": "stderr",
     "output_type": "stream",
     "text": [
      "WARNING:tensorflow:<tensorflow.python.ops.rnn_cell.BasicLSTMCell object at 0x114072190>: Using a concatenated state is slower and will soon be deprecated.  Use state_is_tuple=True.\n"
     ]
    }
   ],
   "source": [
    "def RNN(x, weights, biases):\n",
    "\n",
    "    # Prepare data shape to match `rnn` function requirements\n",
    "    # Current data input shape: (batch_size, n_steps, n_input)\n",
    "    # Required shape: 'n_steps' tensors list of shape (batch_size, n_input)\n",
    "    \n",
    "    # Permuting batch_size and n_steps\n",
    "    x = tf.transpose(x, [1, 0, 2])\n",
    "    # Reshaping to (n_steps*batch_size, n_input)\n",
    "    x = tf.reshape(x, [-1, n_input])\n",
    "    # Split to get a list of 'n_steps' tensors of shape (batch_size, n_input)\n",
    "    x = tf.split(0, n_steps, x)\n",
    "\n",
    "    # Define a lstm cell with tensorflow\n",
    "    lstm_cell = rnn_cell.BasicLSTMCell(n_hidden, forget_bias=1.0)\n",
    "\n",
    "    # Get lstm cell output\n",
    "    outputs, states = rnn.rnn(lstm_cell, x, dtype=tf.float32)\n",
    "\n",
    "    # Linear activation, using rnn inner loop last output\n",
    "    return tf.add(tf.matmul(outputs[-1], weights['out']), biases['out'])\n",
    "\n",
    "pred = RNN(x, weights, biases)\n",
    "\n",
    "# Define loss and optimizer\n",
    "cost = tf.reduce_mean(tf.nn.softmax_cross_entropy_with_logits(pred, y))\n",
    "optimizer = tf.train.AdamOptimizer(learning_rate=learning_rate).minimize(cost)\n",
    "\n",
    "# Evaluate model\n",
    "correct_pred = tf.equal(tf.argmax(pred,1), tf.argmax(y,1))\n",
    "accuracy = tf.reduce_mean(tf.cast(correct_pred, tf.float32))\n",
    "\n",
    "# Initializing the variables\n",
    "init = tf.initialize_all_variables()"
   ]
  },
  {
   "cell_type": "code",
   "execution_count": 37,
   "metadata": {
    "collapsed": false
   },
   "outputs": [
    {
     "name": "stdout",
     "output_type": "stream",
     "text": [
      "Iter 1280, Minibatch Loss= 1.851363, Training Accuracy= 0.32031\n",
      "Iter 2560, Minibatch Loss= 1.549609, Training Accuracy= 0.48438\n",
      "Iter 3840, Minibatch Loss= 1.206940, Training Accuracy= 0.60156\n",
      "Iter 5120, Minibatch Loss= 0.970949, Training Accuracy= 0.66406\n",
      "Iter 6400, Minibatch Loss= 0.837420, Training Accuracy= 0.78906\n",
      "Iter 7680, Minibatch Loss= 0.947536, Training Accuracy= 0.64844\n",
      "Iter 8960, Minibatch Loss= 0.793747, Training Accuracy= 0.74219\n",
      "Iter 10240, Minibatch Loss= 0.569817, Training Accuracy= 0.84375\n",
      "Iter 11520, Minibatch Loss= 0.352622, Training Accuracy= 0.92188\n",
      "Iter 12800, Minibatch Loss= 0.533574, Training Accuracy= 0.82812\n",
      "Iter 14080, Minibatch Loss= 0.431431, Training Accuracy= 0.83594\n",
      "Iter 15360, Minibatch Loss= 0.332098, Training Accuracy= 0.90625\n",
      "Iter 16640, Minibatch Loss= 0.363900, Training Accuracy= 0.91406\n",
      "Iter 17920, Minibatch Loss= 0.253611, Training Accuracy= 0.92188\n",
      "Iter 19200, Minibatch Loss= 0.254162, Training Accuracy= 0.92188\n",
      "Iter 20480, Minibatch Loss= 0.150123, Training Accuracy= 0.96094\n",
      "Iter 21760, Minibatch Loss= 0.455487, Training Accuracy= 0.83594\n",
      "Iter 23040, Minibatch Loss= 0.137503, Training Accuracy= 0.96094\n",
      "Iter 24320, Minibatch Loss= 0.351507, Training Accuracy= 0.89062\n",
      "Iter 25600, Minibatch Loss= 0.417873, Training Accuracy= 0.89844\n",
      "Iter 26880, Minibatch Loss= 0.196729, Training Accuracy= 0.92969\n",
      "Iter 28160, Minibatch Loss= 0.228978, Training Accuracy= 0.93750\n",
      "Iter 29440, Minibatch Loss= 0.242720, Training Accuracy= 0.93750\n",
      "Iter 30720, Minibatch Loss= 0.238785, Training Accuracy= 0.91406\n",
      "Iter 32000, Minibatch Loss= 0.169773, Training Accuracy= 0.93750\n",
      "Iter 33280, Minibatch Loss= 0.227422, Training Accuracy= 0.92969\n",
      "Iter 34560, Minibatch Loss= 0.185721, Training Accuracy= 0.92188\n",
      "Iter 35840, Minibatch Loss= 0.273326, Training Accuracy= 0.92188\n",
      "Iter 37120, Minibatch Loss= 0.248874, Training Accuracy= 0.91406\n",
      "Iter 38400, Minibatch Loss= 0.128760, Training Accuracy= 0.93750\n",
      "Iter 39680, Minibatch Loss= 0.140003, Training Accuracy= 0.96094\n",
      "Iter 40960, Minibatch Loss= 0.268470, Training Accuracy= 0.89844\n",
      "Iter 42240, Minibatch Loss= 0.118008, Training Accuracy= 0.94531\n",
      "Iter 43520, Minibatch Loss= 0.157725, Training Accuracy= 0.92969\n",
      "Iter 44800, Minibatch Loss= 0.146454, Training Accuracy= 0.94531\n",
      "Iter 46080, Minibatch Loss= 0.123624, Training Accuracy= 0.95312\n",
      "Iter 47360, Minibatch Loss= 0.269222, Training Accuracy= 0.93750\n",
      "Iter 48640, Minibatch Loss= 0.234799, Training Accuracy= 0.92969\n",
      "Iter 49920, Minibatch Loss= 0.240261, Training Accuracy= 0.92188\n",
      "Iter 51200, Minibatch Loss= 0.099924, Training Accuracy= 0.95312\n",
      "Iter 52480, Minibatch Loss= 0.201743, Training Accuracy= 0.96094\n",
      "Iter 53760, Minibatch Loss= 0.046220, Training Accuracy= 0.98438\n",
      "Iter 55040, Minibatch Loss= 0.188001, Training Accuracy= 0.93750\n",
      "Iter 56320, Minibatch Loss= 0.262050, Training Accuracy= 0.90625\n",
      "Iter 57600, Minibatch Loss= 0.107377, Training Accuracy= 0.96875\n",
      "Iter 58880, Minibatch Loss= 0.088851, Training Accuracy= 0.96875\n",
      "Iter 60160, Minibatch Loss= 0.237320, Training Accuracy= 0.94531\n",
      "Iter 61440, Minibatch Loss= 0.141746, Training Accuracy= 0.95312\n",
      "Iter 62720, Minibatch Loss= 0.129389, Training Accuracy= 0.95312\n",
      "Iter 64000, Minibatch Loss= 0.112313, Training Accuracy= 0.95312\n",
      "Iter 65280, Minibatch Loss= 0.067633, Training Accuracy= 0.98438\n",
      "Iter 66560, Minibatch Loss= 0.061048, Training Accuracy= 0.97656\n",
      "Iter 67840, Minibatch Loss= 0.123296, Training Accuracy= 0.96875\n",
      "Iter 69120, Minibatch Loss= 0.075362, Training Accuracy= 0.97656\n",
      "Iter 70400, Minibatch Loss= 0.165682, Training Accuracy= 0.92969\n",
      "Iter 71680, Minibatch Loss= 0.166092, Training Accuracy= 0.95312\n",
      "Iter 72960, Minibatch Loss= 0.082037, Training Accuracy= 0.96875\n",
      "Iter 74240, Minibatch Loss= 0.054938, Training Accuracy= 0.98438\n",
      "Iter 75520, Minibatch Loss= 0.087314, Training Accuracy= 0.96875\n",
      "Iter 76800, Minibatch Loss= 0.177168, Training Accuracy= 0.94531\n",
      "Iter 78080, Minibatch Loss= 0.137152, Training Accuracy= 0.93750\n",
      "Iter 79360, Minibatch Loss= 0.118991, Training Accuracy= 0.96875\n",
      "Iter 80640, Minibatch Loss= 0.193378, Training Accuracy= 0.94531\n",
      "Iter 81920, Minibatch Loss= 0.086785, Training Accuracy= 0.96875\n",
      "Iter 83200, Minibatch Loss= 0.183446, Training Accuracy= 0.93750\n",
      "Iter 84480, Minibatch Loss= 0.092160, Training Accuracy= 0.96094\n",
      "Iter 85760, Minibatch Loss= 0.070119, Training Accuracy= 0.97656\n",
      "Iter 87040, Minibatch Loss= 0.032163, Training Accuracy= 1.00000\n",
      "Iter 88320, Minibatch Loss= 0.083834, Training Accuracy= 0.96875\n",
      "Iter 89600, Minibatch Loss= 0.163973, Training Accuracy= 0.94531\n",
      "Iter 90880, Minibatch Loss= 0.155636, Training Accuracy= 0.96094\n",
      "Iter 92160, Minibatch Loss= 0.043720, Training Accuracy= 0.99219\n",
      "Iter 93440, Minibatch Loss= 0.058763, Training Accuracy= 0.98438\n",
      "Iter 94720, Minibatch Loss= 0.148208, Training Accuracy= 0.96094\n",
      "Iter 96000, Minibatch Loss= 0.057351, Training Accuracy= 0.98438\n",
      "Iter 97280, Minibatch Loss= 0.039791, Training Accuracy= 0.99219\n",
      "Iter 98560, Minibatch Loss= 0.044589, Training Accuracy= 0.99219\n",
      "Iter 99840, Minibatch Loss= 0.106379, Training Accuracy= 0.94531\n",
      "Optimization Finished!\n",
      "Testing Accuracy: 0.992188\n"
     ]
    }
   ],
   "source": [
    "# Launch the graph\n",
    "with tf.Session() as sess:\n",
    "    sess.run(init)\n",
    "    step = 1\n",
    "    # Keep training until reach max iterations\n",
    "    while step * batch_size < training_iters:\n",
    "        batch_x, batch_y = mnist.train.next_batch(batch_size)\n",
    "        # Reshape data to get 28 seq of 28 elements\n",
    "        batch_x = batch_x.reshape((batch_size, n_steps, n_input))\n",
    "        # Run optimization op (backprop)\n",
    "        sess.run(optimizer, feed_dict={x: batch_x, y: batch_y})\n",
    "        if step % display_step == 0:\n",
    "            # Calculate batch accuracy\n",
    "            acc = sess.run(accuracy, feed_dict={x: batch_x, y: batch_y})\n",
    "            # Calculate batch loss\n",
    "            loss = sess.run(cost, feed_dict={x: batch_x, y: batch_y})\n",
    "            print \"Iter \" + str(step*batch_size) + \", Minibatch Loss= \" + \\\n",
    "                  \"{:.6f}\".format(loss) + \", Training Accuracy= \" + \\\n",
    "                  \"{:.5f}\".format(acc)\n",
    "        step += 1\n",
    "    print \"Optimization Finished!\"\n",
    "\n",
    "    # Calculate accuracy for 128 mnist test images\n",
    "    test_len = 128\n",
    "    test_data = mnist.test.images[:test_len].reshape((-1, n_steps, n_input))\n",
    "    test_label = mnist.test.labels[:test_len]\n",
    "    print \"Testing Accuracy:\", \\\n",
    "        sess.run(accuracy, feed_dict={x: test_data, y: test_label})"
   ]
  },
  {
   "cell_type": "markdown",
   "metadata": {},
   "source": [
    "#### RNN implementation with skflow (Need to update)"
   ]
  },
  {
   "cell_type": "code",
   "execution_count": null,
   "metadata": {
    "collapsed": false
   },
   "outputs": [],
   "source": [
    "import tensorflow.contrib.learn as skflow\n",
    "\n",
    "def mnist_rnn_input_op_fn(x):\n",
    "    x = tf.transpose(x, [1, 0, 2])\n",
    "    # Reshaping to (n_steps*batch_size, n_input)\n",
    "    x = tf.reshape(x, [-1, 28])\n",
    "    # Split to get a list of 'n_steps' tensors of shape (batch_size, n_input)\n",
    "    x = tf.split(0, 28, x)\n",
    "    return x\n",
    "\n",
    "classifier = skflow.TensorFlowRNNClassifier(rnn_size=28, cell_type='rnn', n_classes=10, input_op_fn=mnist_rnn_input_op_fn)\n",
    "\n",
    "#classifier = skflow.TensorFlowRNNClassifier(rnn_size=28, \n",
    "#    n_classes=10, cell_type='rnn', input_op_fn=mnist_rnn_input_op_fn,\n",
    "#    num_layers=1, bidirectional=False, sequence_length=None,\n",
    "#    steps=1000, optimizer='Adam', learning_rate=0.01, continue_training=True)\n",
    "print(mnist.train.images.shape)\n",
    "print(mnist.train.labels.shape)\n",
    "train_data = mnist.train.images.reshape((55000, 28, 28))\n",
    "classifier.fit(train_data, mnist.train.labels)\n",
    "print mnist.test.images.shape\n",
    "pred = classifier.predict(mnist.test.images.reshape((10000, 28, 28)))\n",
    "score = metrics.accuracy_score(mnist.test.labels.astype(int), pred)\n",
    "print score\n",
    "#print mnist.test.labels[0]\n",
    "#correct_prediction = tf.equal(tf.argmax(pred, 1), tf.argmax(mnist.test.labels, 1))\n",
    "#print correct_prediction\n",
    "#correct_prediction = tf.equal(tf.argmax(classifier.predict(mnist.test.images).reshape(10000, 28, 28), 1), tf.argmax(mnist.test.labels, 1))\n",
    "    # Calculate accuracy\n",
    "#accuracy = tf.reduce_mean(tf.cast(correct_prediction, \"float\"))\n",
    "#print \"Accuracy:\", accuracy.eval({x: mnist.test.images, y: mnist.test.labels})\n"
   ]
  },
  {
   "cell_type": "markdown",
   "metadata": {},
   "source": [
    "#### Convolutional Neural Networks"
   ]
  },
  {
   "cell_type": "markdown",
   "metadata": {},
   "source": [
    "#### Deep Neural Networks"
   ]
  }
 ],
 "metadata": {
  "anaconda-cloud": {},
  "kernelspec": {
   "display_name": "Python [Root]",
   "language": "python",
   "name": "Python [Root]"
  },
  "language_info": {
   "codemirror_mode": {
    "name": "ipython",
    "version": 2
   },
   "file_extension": ".py",
   "mimetype": "text/x-python",
   "name": "python",
   "nbconvert_exporter": "python",
   "pygments_lexer": "ipython2",
   "version": "2.7.11"
  }
 },
 "nbformat": 4,
 "nbformat_minor": 0
}
