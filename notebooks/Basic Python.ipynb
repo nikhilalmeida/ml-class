{
 "cells": [
  {
   "cell_type": "markdown",
   "metadata": {
    "colab_type": "text",
    "id": "oDUPfSX7KILp"
   },
   "source": [
    "# Class 1\n",
    "\n",
    "\n",
    "Installing Python 3.6:\n",
    "The best way to install python is by installing Anaconda. It will not only install python, but also a bunch of supporting tools and libraries.\n",
    "\n",
    "* Instructions for [installing on Windows](https://medium.com/@GalarnykMichael/install-python-on-windows-anaconda-c63c7c3d1444)\n",
    "* Instructions for [installing on MacOS](https://www.anaconda.com/download/#macos)\n",
    "\n"
   ]
  },
  {
   "cell_type": "markdown",
   "metadata": {
    "colab_type": "text",
    "id": "nwzIzuDXNzu6"
   },
   "source": [
    "## Learn Python in 60 minutes"
   ]
  },
  {
   "cell_type": "markdown",
   "metadata": {
    "colab_type": "text",
    "id": "WiSLV3-oOH3a"
   },
   "source": [
    "### Comments\n",
    "```\n",
    "# Single line comments start with a number symbol.\n",
    "\n",
    "\"\"\"\n",
    "Multiline strings can be written\n",
    "using three \"s, and are often used\n",
    "as comments\n",
    "\"\"\"\n",
    "```"
   ]
  },
  {
   "cell_type": "code",
   "execution_count": 1,
   "metadata": {
    "colab": {
     "base_uri": "https://localhost:8080/",
     "height": 34
    },
    "colab_type": "code",
    "executionInfo": {
     "elapsed": 264,
     "status": "ok",
     "timestamp": 1537383614391,
     "user": {
      "displayName": "Nikhil Almeida",
      "photoUrl": "https://lh3.googleusercontent.com/a/default-user=s128",
      "userId": "110317409830504413908"
     },
     "user_tz": 420
    },
    "id": "7tjUrqFyNy2L",
    "outputId": "0808502b-3539-40f6-d712-8a272fcf8961"
   },
   "outputs": [
    {
     "data": {
      "text/plain": [
       "'\\nMultiline strings can be written\\nusing three \"s, and are often used\\nas comments\\n'"
      ]
     },
     "execution_count": 1,
     "metadata": {
      "tags": []
     },
     "output_type": "execute_result"
    }
   ],
   "source": [
    "\"\"\"\n",
    "Multiline strings can be written\n",
    "using three \"s, and are often used\n",
    "as comments\n",
    "\"\"\"\n"
   ]
  },
  {
   "cell_type": "markdown",
   "metadata": {
    "colab_type": "text",
    "id": "wy1DSIZEOJ_W"
   },
   "source": [
    "## Datatypes and Operators\n",
    "\n",
    "You have numbers\n",
    "```\n",
    "3  # => 3\n",
    "```\n",
    "\n",
    "Math is what you would expect\n",
    "```\n",
    "1 + 1  # => 2\n",
    "8 - 1  # => 7\n",
    "10 * 2  # => 20\n",
    "35 / 5  # => 7.0\n",
    "\n",
    "11 / 4  # => 2.75  ...normal division\n",
    "11 // 4  # => 2 ...floored division\n",
    "\n",
    "\n",
    "```"
   ]
  },
  {
   "cell_type": "code",
   "execution_count": 88,
   "metadata": {
    "colab": {
     "base_uri": "https://localhost:8080/",
     "height": 34
    },
    "colab_type": "code",
    "executionInfo": {
     "elapsed": 262,
     "status": "ok",
     "timestamp": 1536877069591,
     "user": {
      "displayName": "Nikhil Almeida",
      "photoUrl": "https://lh3.googleusercontent.com/a/default-user=s128",
      "userId": "110317409830504413908"
     },
     "user_tz": 420
    },
    "id": "_IiPvlsiN7IQ",
    "outputId": "8514601a-e7be-4567-a476-cea8f57179e6"
   },
   "outputs": [
    {
     "data": {
      "text/plain": [
       "2"
      ]
     },
     "execution_count": 88,
     "metadata": {
      "tags": []
     },
     "output_type": "execute_result"
    }
   ],
   "source": []
  },
  {
   "cell_type": "markdown",
   "metadata": {
    "colab_type": "text",
    "id": "pYugm0oU6cUA"
   },
   "source": [
    "\n",
    "Modulo operation\n",
    "\n",
    "```\n",
    "7 % 3  # => 1\n",
    "```\n",
    "\n",
    "Exponentiation (x to the yth power)\n",
    "\n",
    "```\n",
    "2 ** 4  # => 16\n",
    "```\n",
    "\n",
    "Enforce precedence with parentheses\n",
    "```\n",
    "(1 + 3) * 2  # => 8\n",
    "```"
   ]
  },
  {
   "cell_type": "code",
   "execution_count": 90,
   "metadata": {
    "colab": {
     "base_uri": "https://localhost:8080/",
     "height": 34
    },
    "colab_type": "code",
    "executionInfo": {
     "elapsed": 244,
     "status": "ok",
     "timestamp": 1536877318570,
     "user": {
      "displayName": "Nikhil Almeida",
      "photoUrl": "https://lh3.googleusercontent.com/a/default-user=s128",
      "userId": "110317409830504413908"
     },
     "user_tz": 420
    },
    "id": "OjroMQ8QOSMD",
    "outputId": "1ed35588-1f4a-4721-eec4-99c807610185"
   },
   "outputs": [
    {
     "data": {
      "text/plain": [
       "7"
      ]
     },
     "execution_count": 90,
     "metadata": {
      "tags": []
     },
     "output_type": "execute_result"
    }
   ],
   "source": []
  },
  {
   "cell_type": "markdown",
   "metadata": {
    "colab_type": "text",
    "id": "o1oSXDbYPaKW"
   },
   "source": [
    "## Boolean Operators\n",
    "\n",
    "Note \"and\" and \"or\" are case-sensitive\n",
    "\n",
    "```\n",
    "True and False  # => False\n",
    "False or True  # => True\n",
    "```\n",
    "\n",
    "Note using Bool operators with ints\n",
    "```\n",
    "0 and 2  # => 0\n",
    "-5 or 0  # => -5\n",
    "0 == False  # => True\n",
    "2 == True  # => False\n",
    "1 == True  # => True\n",
    "```"
   ]
  },
  {
   "cell_type": "code",
   "execution_count": 106,
   "metadata": {
    "colab": {
     "base_uri": "https://localhost:8080/",
     "height": 51
    },
    "colab_type": "code",
    "executionInfo": {
     "elapsed": 281,
     "status": "ok",
     "timestamp": 1536877764654,
     "user": {
      "displayName": "Nikhil Almeida",
      "photoUrl": "https://lh3.googleusercontent.com/a/default-user=s128",
      "userId": "110317409830504413908"
     },
     "user_tz": 420
    },
    "id": "pLv0psETOdxG",
    "outputId": "7a42aee9-c1f5-489e-d688-49bd62b25190"
   },
   "outputs": [
    {
     "name": "stdout",
     "output_type": "stream",
     "text": [
      "<class 'str'>\n"
     ]
    },
    {
     "data": {
      "text/plain": [
       "str"
      ]
     },
     "execution_count": 106,
     "metadata": {
      "tags": []
     },
     "output_type": "execute_result"
    }
   ],
   "source": []
  },
  {
   "cell_type": "markdown",
   "metadata": {
    "colab_type": "text",
    "id": "MU9gEg_36yms"
   },
   "source": [
    "Negate with *not*\n",
    "```\n",
    "not True  # => False\n",
    "not False  # => True\n",
    "```\n",
    "\n",
    "Equality is *==*\n",
    "```\n",
    "1 == 1  # => True\n",
    "2 == 1  # => False\n",
    "```\n",
    "\n",
    "Inequality is *!=*\n",
    "```\n",
    "1 != 1  # => False\n",
    "2 != 1  # => True\n",
    "```\n",
    "\n",
    "More comparisons\n",
    "```\n",
    "1 < 10  # => True\n",
    "1 > 10  # => False\n",
    "2 <= 2  # => True\n",
    "2 >= 2  # => True\n",
    "```"
   ]
  },
  {
   "cell_type": "code",
   "execution_count": 111,
   "metadata": {
    "colab": {
     "base_uri": "https://localhost:8080/",
     "height": 34
    },
    "colab_type": "code",
    "executionInfo": {
     "elapsed": 328,
     "status": "ok",
     "timestamp": 1536877960602,
     "user": {
      "displayName": "Nikhil Almeida",
      "photoUrl": "https://lh3.googleusercontent.com/a/default-user=s128",
      "userId": "110317409830504413908"
     },
     "user_tz": 420
    },
    "id": "nol3rH9gOvSP",
    "outputId": "9d6387d3-4e25-42c6-e828-d4eddb4a8635"
   },
   "outputs": [
    {
     "data": {
      "text/plain": [
       "True"
      ]
     },
     "execution_count": 111,
     "metadata": {
      "tags": []
     },
     "output_type": "execute_result"
    }
   ],
   "source": []
  },
  {
   "cell_type": "markdown",
   "metadata": {
    "colab_type": "text",
    "id": "9xZaO4nH7E3T"
   },
   "source": [
    "Comparisons can be chained!\n",
    "```\n",
    "1 < 2 < 3  # => True\n",
    "2 < 3 < 2  # => False\n",
    "```"
   ]
  },
  {
   "cell_type": "code",
   "execution_count": 128,
   "metadata": {
    "colab": {
     "base_uri": "https://localhost:8080/",
     "height": 34
    },
    "colab_type": "code",
    "executionInfo": {
     "elapsed": 345,
     "status": "ok",
     "timestamp": 1536878312365,
     "user": {
      "displayName": "Nikhil Almeida",
      "photoUrl": "https://lh3.googleusercontent.com/a/default-user=s128",
      "userId": "110317409830504413908"
     },
     "user_tz": 420
    },
    "id": "uh0_w6TlOyy4",
    "outputId": "e229868c-e4f2-415d-dc8d-8abcd2ac747a"
   },
   "outputs": [
    {
     "data": {
      "text/plain": [
       "True"
      ]
     },
     "execution_count": 128,
     "metadata": {
      "tags": []
     },
     "output_type": "execute_result"
    }
   ],
   "source": []
  },
  {
   "cell_type": "markdown",
   "metadata": {
    "colab_type": "text",
    "id": "kutK9R1mPymo"
   },
   "source": [
    "## Strings\n",
    "Strings are created with \" or '\n",
    "\n",
    "```\n",
    "\"This is a string.\"\n",
    "'This is also a string.'\n",
    "```"
   ]
  },
  {
   "cell_type": "code",
   "execution_count": null,
   "metadata": {
    "colab": {},
    "colab_type": "code",
    "id": "bTwZEpn1Puy-"
   },
   "outputs": [],
   "source": []
  },
  {
   "cell_type": "markdown",
   "metadata": {
    "colab_type": "text",
    "id": "tb8J_HV57UO6"
   },
   "source": [
    "Strings can be added too!\n",
    "```\n",
    "\"Hello \" + \"world!\"  # => \"Hello world!\"\n",
    "\n",
    "```\n",
    "... or multiplied\n",
    "```\n",
    "\"Hello\" * 3  # => \"HelloHelloHello\"\n",
    "```"
   ]
  },
  {
   "cell_type": "code",
   "execution_count": 129,
   "metadata": {
    "colab": {
     "base_uri": "https://localhost:8080/",
     "height": 34
    },
    "colab_type": "code",
    "executionInfo": {
     "elapsed": 277,
     "status": "ok",
     "timestamp": 1536878505266,
     "user": {
      "displayName": "Nikhil Almeida",
      "photoUrl": "https://lh3.googleusercontent.com/a/default-user=s128",
      "userId": "110317409830504413908"
     },
     "user_tz": 420
    },
    "id": "yxPfHgJYP_iv",
    "outputId": "a03a35c2-73a4-4d2e-ed56-8aa5e99b4af6"
   },
   "outputs": [
    {
     "data": {
      "text/plain": [
       "'HelloHelloHello'"
      ]
     },
     "execution_count": 129,
     "metadata": {
      "tags": []
     },
     "output_type": "execute_result"
    }
   ],
   "source": [
    "\"Hello\" * 3"
   ]
  },
  {
   "cell_type": "markdown",
   "metadata": {
    "colab_type": "text",
    "id": "ZoRiIwTl7fJj"
   },
   "source": [
    "A string can be treated like a list of characters\n",
    "```\n",
    "\"This is a string\"[0]  # => 'T'\n",
    "```\n",
    "\n",
    "You can find the length of a string\n",
    "```\n",
    "len(\"This is a string\")  # => 16\n",
    "```\n"
   ]
  },
  {
   "cell_type": "code",
   "execution_count": 131,
   "metadata": {
    "colab": {
     "base_uri": "https://localhost:8080/",
     "height": 34
    },
    "colab_type": "code",
    "executionInfo": {
     "elapsed": 316,
     "status": "ok",
     "timestamp": 1536878560104,
     "user": {
      "displayName": "Nikhil Almeida",
      "photoUrl": "https://lh3.googleusercontent.com/a/default-user=s128",
      "userId": "110317409830504413908"
     },
     "user_tz": 420
    },
    "id": "JxHqr62_QGDo",
    "outputId": "19f0d864-38cd-423f-a7e5-32e5468cf8ae"
   },
   "outputs": [
    {
     "data": {
      "text/plain": [
       "'e'"
      ]
     },
     "execution_count": 131,
     "metadata": {
      "tags": []
     },
     "output_type": "execute_result"
    }
   ],
   "source": []
  },
  {
   "cell_type": "markdown",
   "metadata": {
    "colab_type": "text",
    "id": "oFNyrLVdQns2"
   },
   "source": [
    "#### String Formating\n",
    "\n",
    "This method is the preferred way\n",
    "```\n",
    "print(\"{} is a {}\".format(\"This\", \"placeholder\"))\n",
    "print(\"{0} can be {1}\".format(\"strings\", \"formatted\"))\n",
    "```\n",
    "\n",
    "You can use keywords if you don't want to count.\n",
    "```\n",
    "print(\"{name} wants to eat {food}\".format(name=\"Bob\", food=\"lasagna\"))\n",
    "```"
   ]
  },
  {
   "cell_type": "code",
   "execution_count": 137,
   "metadata": {
    "colab": {
     "base_uri": "https://localhost:8080/",
     "height": 199
    },
    "colab_type": "code",
    "executionInfo": {
     "elapsed": 298,
     "status": "error",
     "timestamp": 1536878838087,
     "user": {
      "displayName": "Nikhil Almeida",
      "photoUrl": "https://lh3.googleusercontent.com/a/default-user=s128",
      "userId": "110317409830504413908"
     },
     "user_tz": 420
    },
    "id": "CLrrDEm8QNuQ",
    "outputId": "ddf28ae8-fe57-4946-b92f-1f920b081504"
   },
   "outputs": [
    {
     "ename": "NameError",
     "evalue": "ignored",
     "output_type": "error",
     "traceback": [
      "\u001b[0;31m---------------------------------------------------------------------------\u001b[0m",
      "\u001b[0;31mNameError\u001b[0m                                 Traceback (most recent call last)",
      "\u001b[0;32m<ipython-input-137-bc5b19bb247f>\u001b[0m in \u001b[0;36m<module>\u001b[0;34m()\u001b[0m\n\u001b[1;32m      1\u001b[0m \u001b[0ma\u001b[0m \u001b[0;34m=\u001b[0m\u001b[0;36m2\u001b[0m\u001b[0;34m\u001b[0m\u001b[0m\n\u001b[1;32m      2\u001b[0m \u001b[0;34m\u001b[0m\u001b[0m\n\u001b[0;32m----> 3\u001b[0;31m \u001b[0mprint\u001b[0m\u001b[0;34m(\u001b[0m\u001b[0;34mf\"This is a {a} and {c1}\"\u001b[0m\u001b[0;34m)\u001b[0m\u001b[0;34m\u001b[0m\u001b[0m\n\u001b[0m",
      "\u001b[0;31mNameError\u001b[0m: name 'c1' is not defined"
     ]
    }
   ],
   "source": []
  },
  {
   "cell_type": "markdown",
   "metadata": {
    "colab_type": "text",
    "id": "TCgbCHExRq9U"
   },
   "source": [
    "## Nothing here ---- None\n",
    "\n",
    "None is an object\n",
    "\n",
    "```None  # => None```\n",
    "\n",
    "Don't use the equality \"==\" symbol to compare objects to None\n",
    "Use \"is\" instead\n",
    "```\n",
    "\"etc\" is None  # => False\n",
    "None is None  # => True\n",
    "```\n",
    "\n",
    "The 'is' operator tests for object identity. This isn't very useful when dealing with primitive values, but is very useful when dealing with objects.\n",
    "\n",
    "Any object can be used in a Boolean context.\n",
    "The following values are considered falsey:\n",
    "* None\n",
    "* zero of any numeric type (e.g., 0, 0L, 0.0, 0j)\n",
    "* empty sequences (e.g., '', (), [])\n",
    "* empty containers (e.g., {}, set())\n",
    "* instances of user-defined classes meeting certain conditions\n",
    "\n",
    "see: https://docs.python.org/2/reference/datamodel.html#object.__nonzero__\n",
    "\n",
    "\n",
    "All other values are truthy (using the bool() function on them returns True).\n",
    "\n",
    "```\n",
    "bool(0)  # => False\n",
    "bool(\"\")  # => False\n",
    "```"
   ]
  },
  {
   "cell_type": "code",
   "execution_count": null,
   "metadata": {
    "colab": {},
    "colab_type": "code",
    "id": "yEHDd25fQsDz"
   },
   "outputs": [],
   "source": []
  },
  {
   "cell_type": "markdown",
   "metadata": {
    "colab_type": "text",
    "id": "N_pmICD7gpw2"
   },
   "source": [
    "## Variables and Collections\n",
    "\n",
    "```\n",
    "some_var = 5  # Convention is to use lower_case_with_underscores\n",
    "some_var  # => 5\n",
    "```"
   ]
  },
  {
   "cell_type": "code",
   "execution_count": null,
   "metadata": {
    "colab": {},
    "colab_type": "code",
    "id": "u-yL1whiRnGg"
   },
   "outputs": [],
   "source": []
  },
  {
   "cell_type": "code",
   "execution_count": null,
   "metadata": {
    "colab": {},
    "colab_type": "code",
    "id": "gP7BfaeFhWKR"
   },
   "outputs": [],
   "source": [
    "# Accessing a previously unassigned variable is an exception.\n",
    "# See Control Flow to learn more about exception handling.\n",
    "some_other_var  # Raises a name error"
   ]
  },
  {
   "cell_type": "markdown",
   "metadata": {
    "colab_type": "text",
    "id": "Npgs2WKSlLeY"
   },
   "source": [
    "### Lists\n",
    "\n",
    "Lists store sequences\n",
    "```\n",
    "li = []\n",
    "# You can start with a prefilled list\n",
    "other_li = [4, 5, 6]\n",
    "\n",
    "```\n",
    "\n",
    "Add stuff to the end of a list with append\n",
    "```\n",
    "li.append(1)  # li is now [1]\n",
    "li.append(2)  # li is now [1, 2]\n",
    "li.append(4)  # li is now [1, 2, 4]\n",
    "li.append(3)  # li is now [1, 2, 4, 3]\n",
    "```\n",
    "Remove from the end with pop\n",
    "```\n",
    "li.pop()  # => 3 and li is now [1, 2, 4]\n",
    "```\n",
    "\n",
    "Let's put it back\n",
    "```\n",
    "li.append(3)  # li is now [1, 2, 4, 3] again.\n",
    "```"
   ]
  },
  {
   "cell_type": "code",
   "execution_count": 139,
   "metadata": {
    "colab": {
     "base_uri": "https://localhost:8080/",
     "height": 34
    },
    "colab_type": "code",
    "executionInfo": {
     "elapsed": 326,
     "status": "ok",
     "timestamp": 1536878961236,
     "user": {
      "displayName": "Nikhil Almeida",
      "photoUrl": "https://lh3.googleusercontent.com/a/default-user=s128",
      "userId": "110317409830504413908"
     },
     "user_tz": 420
    },
    "id": "XvTp53WAh5pU",
    "outputId": "a619cd1a-c67e-4506-cbdc-b6a33474b4e7"
   },
   "outputs": [
    {
     "data": {
      "text/plain": [
       "[1, 2, 4, 3]"
      ]
     },
     "execution_count": 139,
     "metadata": {
      "tags": []
     },
     "output_type": "execute_result"
    }
   ],
   "source": []
  },
  {
   "cell_type": "markdown",
   "metadata": {
    "colab_type": "text",
    "id": "K548vmIHljDP"
   },
   "source": [
    "#### List Indexing\n",
    "Access a list like you would any array\n",
    "\n",
    "```\n",
    "li[0]  # => 1\n",
    "```\n",
    "Assign new values to indexes that have already been initialized with =\n",
    "```\n",
    "li[0] = 42\n",
    "li[0]  # => 42\n",
    "li[0] = 1  # Note: setting it back to the original value\n",
    "```\n",
    "Look at the last element\n",
    "```\n",
    "li[-1]  # => 3\n",
    "```"
   ]
  },
  {
   "cell_type": "code",
   "execution_count": null,
   "metadata": {
    "colab": {},
    "colab_type": "code",
    "id": "KrBvqNYLhX9p"
   },
   "outputs": [],
   "source": []
  },
  {
   "cell_type": "code",
   "execution_count": null,
   "metadata": {
    "colab": {},
    "colab_type": "code",
    "id": "-asxedBzl3yZ"
   },
   "outputs": [],
   "source": [
    "# Looking out of bounds is an IndexError\n",
    "li[4]  # Raises an IndexError"
   ]
  },
  {
   "cell_type": "markdown",
   "metadata": {
    "colab_type": "text",
    "id": "-A8qRaGwlmsQ"
   },
   "source": [
    "#### List Slicing\n",
    "You can look at ranges with slice syntax.\n",
    "(It's a closed/open range for you mathy types.)\n",
    "```\n",
    "li[1:3]  # => [2, 4]\n",
    "```\n",
    "Omit the beginning\n",
    "```\n",
    "li[2:]  # => [4, 3]\n",
    "```\n",
    "Omit the end\n",
    "```\n",
    "li[:3]  # => [1, 2, 4]\n",
    "```\n",
    "Select every second entry\n",
    "```\n",
    "li[::2]  # =>[1, 4]\n",
    "```\n",
    "Reverse a copy of the list\n",
    "```\n",
    "li[::-1]  # => [3, 4, 2, 1]\n",
    "```\n",
    "Use any combination of these to make advanced slices\n",
    "```\n",
    "li[start:end:step]\n",
    "print(li)\n",
    "li[::-1]\n",
    "\n",
    "a= [1,2,3] + [5,4,3]\n",
    "```"
   ]
  },
  {
   "cell_type": "code",
   "execution_count": 154,
   "metadata": {
    "colab": {
     "base_uri": "https://localhost:8080/",
     "height": 34
    },
    "colab_type": "code",
    "executionInfo": {
     "elapsed": 327,
     "status": "ok",
     "timestamp": 1536879363829,
     "user": {
      "displayName": "Nikhil Almeida",
      "photoUrl": "https://lh3.googleusercontent.com/a/default-user=s128",
      "userId": "110317409830504413908"
     },
     "user_tz": 420
    },
    "id": "fnTNY5pwlt3x",
    "outputId": "7abce500-fcf2-4264-bf1e-c1a4e334f2aa"
   },
   "outputs": [
    {
     "name": "stdout",
     "output_type": "stream",
     "text": [
      "[1, 2, 4, 3]\n"
     ]
    }
   ],
   "source": []
  },
  {
   "cell_type": "markdown",
   "metadata": {
    "colab_type": "text",
    "id": "4L-sV9GxcjWi"
   },
   "source": [
    "Concatenate lists with \"extend()\"\n",
    "```\n",
    "a = [1,2,3]\n",
    "b = [4,5,6]\n",
    "a.extend(b)\n",
    "```\n"
   ]
  },
  {
   "cell_type": "code",
   "execution_count": null,
   "metadata": {
    "colab": {},
    "colab_type": "code",
    "id": "EqlICm11mVeG"
   },
   "outputs": [],
   "source": []
  },
  {
   "cell_type": "markdown",
   "metadata": {
    "colab_type": "text",
    "id": "e5NW9fX_mk0I"
   },
   "source": [
    "#### Test Membership in List"
   ]
  },
  {
   "cell_type": "code",
   "execution_count": null,
   "metadata": {
    "colab": {},
    "colab_type": "code",
    "id": "YSqJDu6bmjhd"
   },
   "outputs": [],
   "source": [
    "1 in li"
   ]
  },
  {
   "cell_type": "code",
   "execution_count": null,
   "metadata": {
    "colab": {},
    "colab_type": "code",
    "id": "RcVcKngPmst0"
   },
   "outputs": [],
   "source": [
    "# Examine the length with \"len()\"\n",
    "len(li)  # => 6"
   ]
  },
  {
   "cell_type": "markdown",
   "metadata": {
    "colab_type": "text",
    "id": "tkkTjbfVnBR1"
   },
   "source": [
    "### Tuples\n",
    "\n",
    "Tuples are like lists but are immutable.\n",
    "```\n",
    "tup = (1, 2, 3)\n",
    "tup[0]  # => 1\n",
    "tup[0] = 3  # Raises a TypeError\n",
    "```"
   ]
  },
  {
   "cell_type": "code",
   "execution_count": null,
   "metadata": {
    "colab": {},
    "colab_type": "code",
    "id": "Jl-gxDi-mz6X"
   },
   "outputs": [],
   "source": []
  },
  {
   "cell_type": "markdown",
   "metadata": {
    "colab_type": "text",
    "id": "rxjABBhzdMoO"
   },
   "source": [
    "You can unpack tuples (or lists) into variables\n",
    "```\n",
    "a, b, c = (1, 2, 3)  # a is now 1, b is now 2 and c is now 3\n",
    "d, e, f = 4, 5, 6  # you can leave out the parentheses\n",
    "```\n",
    "\n",
    "Tuples are created by default if you leave out the parentheses\n",
    "```\n",
    "g = 4, 5, 6  # => (4, 5, 6)\n",
    "```\n",
    "Now look how easy it is to swap two values\n",
    "```\n",
    "e, d = d, e  # d is now 5 and e is now 4\n",
    "```"
   ]
  },
  {
   "cell_type": "code",
   "execution_count": null,
   "metadata": {
    "colab": {},
    "colab_type": "code",
    "id": "TBFfFeX5nKz8"
   },
   "outputs": [],
   "source": []
  },
  {
   "cell_type": "markdown",
   "metadata": {
    "colab_type": "text",
    "id": "s7RS1N0KnliC"
   },
   "source": [
    "### Dictionaries\n",
    "\n",
    "Dictionaries store mappings\n",
    "```\n",
    "empty_dict = {}\n",
    "```\n",
    "Here is a prefilled dictionary\n",
    "```\n",
    "filled_dict = {\"one\": 1, \"two\": 2, \"three\": 3}\n",
    "filled_dict\n",
    "```"
   ]
  },
  {
   "cell_type": "code",
   "execution_count": 161,
   "metadata": {
    "colab": {
     "base_uri": "https://localhost:8080/",
     "height": 34
    },
    "colab_type": "code",
    "executionInfo": {
     "elapsed": 293,
     "status": "ok",
     "timestamp": 1536879602867,
     "user": {
      "displayName": "Nikhil Almeida",
      "photoUrl": "https://lh3.googleusercontent.com/a/default-user=s128",
      "userId": "110317409830504413908"
     },
     "user_tz": 420
    },
    "id": "bKYH_5KZnPwB",
    "outputId": "7314706f-7de2-4831-b525-1cc8366695df"
   },
   "outputs": [
    {
     "data": {
      "text/plain": [
       "{'one': 1, 'three': 3, 'two': 2}"
      ]
     },
     "execution_count": 161,
     "metadata": {
      "tags": []
     },
     "output_type": "execute_result"
    }
   ],
   "source": []
  },
  {
   "cell_type": "code",
   "execution_count": null,
   "metadata": {
    "colab": {},
    "colab_type": "code",
    "id": "WyHWpvwbnWf-"
   },
   "outputs": [],
   "source": [
    "filled_dict[\"one\"]"
   ]
  },
  {
   "cell_type": "code",
   "execution_count": null,
   "metadata": {
    "colab": {},
    "colab_type": "code",
    "id": "JfnM-Q_QxmJz"
   },
   "outputs": [],
   "source": [
    "# Get all keys as a list with \"keys()\"\n",
    "filled_dict.keys() "
   ]
  },
  {
   "cell_type": "code",
   "execution_count": null,
   "metadata": {
    "colab": {},
    "colab_type": "code",
    "id": "YVadyZZFxn0z"
   },
   "outputs": [],
   "source": [
    "# Get all values as a list with \"values()\"\n",
    "filled_dict.values()  # => [3, 2, 1]\n"
   ]
  },
  {
   "cell_type": "code",
   "execution_count": null,
   "metadata": {
    "colab": {},
    "colab_type": "code",
    "id": "KtF7RGjgxtuV"
   },
   "outputs": [],
   "source": [
    "# Get all key-value pairs as a list of tuples with \"items()\"\n",
    "filled_dict.items()  # => [(\"one\", 1), (\"two\", 2), (\"three\", 3)]"
   ]
  },
  {
   "cell_type": "markdown",
   "metadata": {
    "colab_type": "text",
    "id": "xZk6CLhqx2Lv"
   },
   "source": [
    "#### Test Membership in Dictionaries"
   ]
  },
  {
   "cell_type": "code",
   "execution_count": null,
   "metadata": {
    "colab": {},
    "colab_type": "code",
    "id": "s5-FDzGrxxz_"
   },
   "outputs": [],
   "source": [
    "#Check for existence of keys in a dictionary with \"in\"\n",
    "\"one\" in filled_dict  # => True\n",
    "1 in filled_dict  # => False"
   ]
  },
  {
   "cell_type": "code",
   "execution_count": null,
   "metadata": {
    "colab": {},
    "colab_type": "code",
    "id": "pk2dgg5ex8G7"
   },
   "outputs": [],
   "source": [
    "# Looking up a non-existing key is a KeyError\n",
    "filled_dict[\"four\"]  # KeyError"
   ]
  },
  {
   "cell_type": "code",
   "execution_count": null,
   "metadata": {
    "colab": {},
    "colab_type": "code",
    "id": "OvB7XHo6x-FW"
   },
   "outputs": [],
   "source": [
    "# Use \"get()\" method to avoid the KeyError\n",
    "filled_dict.get(\"one\")  # => 1\n",
    "filled_dict.get(\"four\")  # => None"
   ]
  },
  {
   "cell_type": "code",
   "execution_count": null,
   "metadata": {
    "colab": {},
    "colab_type": "code",
    "id": "D4oX_ur0yBJn"
   },
   "outputs": [],
   "source": [
    "# The get method supports a default argument when the value is missing\n",
    "filled_dict.get(\"one\", 4)  # => 1\n",
    "filled_dict.get(\"four\", 4)  # => 4"
   ]
  },
  {
   "cell_type": "markdown",
   "metadata": {
    "colab_type": "text",
    "id": "r8oAFZp7yT1d"
   },
   "source": [
    "### Sets\n",
    "Sets store ... well sets (which are like lists but can contain no duplicates)"
   ]
  },
  {
   "cell_type": "code",
   "execution_count": null,
   "metadata": {
    "colab": {},
    "colab_type": "code",
    "id": "JyAx1yIQyEwX"
   },
   "outputs": [],
   "source": [
    "empty_set = set()\n",
    "# Initialize a \"set()\" with a bunch of values\n",
    "some_set = set([1, 2, 2, 3, 4])  # some_set is now set([1, 2, 3, 4])\n",
    "some_set"
   ]
  },
  {
   "cell_type": "code",
   "execution_count": null,
   "metadata": {
    "colab": {},
    "colab_type": "code",
    "id": "Kk7LFR8mycF0"
   },
   "outputs": [],
   "source": [
    "# order is not guaranteed, even though it may sometimes look sorted\n",
    "another_set = set([4, 3, 2, 2, 1])  # another_set is now set([1, 2, 3, 4])\n",
    "another_set"
   ]
  },
  {
   "cell_type": "code",
   "execution_count": null,
   "metadata": {
    "colab": {},
    "colab_type": "code",
    "id": "aFx8_-inyfnx"
   },
   "outputs": [],
   "source": [
    "# Since Python 2.7, {} can be used to declare a set\n",
    "filled_set = {1, 2, 2, 3, 4}  # => {1, 2, 3, 4}\n",
    "\n",
    "# Add more items to a set\n",
    "filled_set.add(5)  # filled_set is now {1, 2, 3, 4, 5}\n"
   ]
  },
  {
   "cell_type": "markdown",
   "metadata": {
    "colab_type": "text",
    "id": "wK4q36u3yyi5"
   },
   "source": [
    "#### Set Intersection, Union, Difference, Symmetric Difference\n",
    "\n",
    "Do set union with |\n",
    "```\n",
    "a_set = {3, 4, 5, 6}\n",
    "b_set = {8, 9, 5, 6}\n",
    "a_set & b_set  # => {5, 6}\n",
    "\n",
    "```\n",
    "\n",
    "Do set difference with -\n",
    "\n",
    "```\n",
    "{1, 2, 3, 4} - {2, 3, 5}  # => {1, 4}\n",
    "```\n",
    "\n",
    "\n",
    "Do set symmetric difference with ^\n",
    "\n",
    "```\n",
    "{1, 2, 3, 4} ^ {2, 3, 5}  # => {1, 4, 5}\n",
    "```\n",
    "\n",
    "\n",
    "Check if set on the left is a superset of set on the right\n",
    "\n",
    "```\n",
    "{1, 2} >= {1, 2, 3}  # => False\n",
    "```\n",
    "\n",
    "\n",
    "Check if set on the left is a subset of set on the right\n",
    "\n",
    "```\n",
    "{1, 2} <= {1, 2, 3}  # => True\n",
    "```"
   ]
  },
  {
   "cell_type": "code",
   "execution_count": null,
   "metadata": {
    "colab": {},
    "colab_type": "code",
    "id": "aDiOrDuCyoTd"
   },
   "outputs": [],
   "source": []
  },
  {
   "cell_type": "markdown",
   "metadata": {
    "colab_type": "text",
    "id": "mHbj5pjl1MO7"
   },
   "source": [
    "#### Test Existence in Sets\n",
    "\n",
    "Check for existence in a set with in\n",
    "```\n",
    "2 in filled_set  # => True\n",
    "10 in filled_set  # => False\n",
    "10 not in filled_set # => True\n",
    "```"
   ]
  },
  {
   "cell_type": "code",
   "execution_count": null,
   "metadata": {
    "colab": {},
    "colab_type": "code",
    "id": "HxAQR6Hpy9O8"
   },
   "outputs": [],
   "source": [
    "\n"
   ]
  },
  {
   "cell_type": "markdown",
   "metadata": {
    "colab_type": "text",
    "id": "YCZ3No4g1f7Z"
   },
   "source": [
    "## Control Flow"
   ]
  },
  {
   "cell_type": "markdown",
   "metadata": {
    "colab_type": "text",
    "id": "K_1-tPIJ1zaR"
   },
   "source": [
    "### `If` Statements\n",
    "\n",
    "Here is an if statement. Indentation is significant in python!\n",
    "prints \"some_var is smaller than 10\"\n",
    "```\n",
    "some_var = 5\n",
    "\n",
    "if some_var > 10:\n",
    "    print(\"some_var is totally bigger than 10.\")\n",
    "elif some_var < 10:  # This elif clause is optional.\n",
    "    print(\"some_var is smaller than 10.\")\n",
    "else:  # This is optional too.\n",
    "    print(\"some_var is indeed 10.\")\n",
    " ```   "
   ]
  },
  {
   "cell_type": "code",
   "execution_count": null,
   "metadata": {
    "colab": {},
    "colab_type": "code",
    "id": "LuarxKu31fPH"
   },
   "outputs": [],
   "source": []
  },
  {
   "cell_type": "markdown",
   "metadata": {
    "colab_type": "text",
    "id": "7Y8Jd8T12FKP"
   },
   "source": [
    "### `For` Loops\n",
    "For loops iterate over lists\n",
    "prints:\n",
    "    dog is a mammal\n",
    "    cat is a mammal\n",
    "    mouse is a mammal\n",
    "\n",
    "```\n",
    "for animal in [\"dog\", \"cat\", \"mouse\"]:\n",
    "    # You can use {0} to interpolate formatted strings. (See above.)\n",
    "    print(\"{0} is a mammal\".format(animal))\n",
    "```"
   ]
  },
  {
   "cell_type": "code",
   "execution_count": null,
   "metadata": {
    "colab": {},
    "colab_type": "code",
    "id": "_SOByr5S2JHJ"
   },
   "outputs": [],
   "source": []
  },
  {
   "cell_type": "markdown",
   "metadata": {
    "colab_type": "text",
    "id": "4YikUhH22clm"
   },
   "source": [
    "### `Range` Function\n",
    "\n",
    "\"range(number)\" returns a list of numbersfrom zero to the given number\n",
    "\n",
    "prints:\n",
    "    0\n",
    "    1\n",
    "    2\n",
    "    3\n",
    "```\n",
    "for i in range(4):\n",
    "    print i\n",
    "```\n",
    "\n",
    "\"range(lower, upper)\" returns a list of numbers from the lower number to the upper number\n",
    "\n",
    "prints:\n",
    "    4\n",
    "    5\n",
    "    6\n",
    "    7\n",
    "```\n",
    "for i in range(4, 8):\n",
    "    print i\n",
    "```"
   ]
  },
  {
   "cell_type": "code",
   "execution_count": null,
   "metadata": {
    "colab": {},
    "colab_type": "code",
    "id": "q8dreQgr23CJ"
   },
   "outputs": [],
   "source": []
  },
  {
   "cell_type": "markdown",
   "metadata": {
    "colab_type": "text",
    "id": "NpvdhNK633df"
   },
   "source": [
    "### `While` Loops\n",
    "\n",
    "While loops go until a condition is no longer met.\n",
    "\n",
    "prints:\n",
    "    0\n",
    "    1\n",
    "    2\n",
    "    3\n",
    "```\n",
    "x = 0\n",
    "while x < 4:\n",
    "    print x\n",
    "    x += 1  # Shorthand for x = x + 1\n",
    "```"
   ]
  },
  {
   "cell_type": "code",
   "execution_count": null,
   "metadata": {
    "colab": {},
    "colab_type": "code",
    "id": "noj985xu342s"
   },
   "outputs": [],
   "source": []
  },
  {
   "cell_type": "markdown",
   "metadata": {
    "colab_type": "text",
    "id": "le9FAFoScc8z"
   },
   "source": [
    "### List Comprehensions\n",
    "List comprehensions are basically writing for loops in one line.\n",
    "\n",
    "This becomes very useful as it makes your code succint.\n",
    "\n",
    "It is important not to get carried away using them though. Some developers tend to cram too much code into one line. \n",
    "\n",
    "**Example 1**\n",
    "\n",
    "Calculate the square of every number in a given list of numbers and assign the resulting list to a a new variable.\n",
    "\n",
    "```\n",
    "given_list = [1,2,3,4,5]\n",
    "\n",
    "# Old way of doing this.\n",
    "new_list = []\n",
    "for x in given_list:\n",
    "        square = x*x\n",
    "        new_list.append(square)\n",
    "\n",
    "print(\"Squared values\",new_list)\n",
    "\n",
    "# Can achieve the same thing using list comprehensions.\n",
    "\n",
    "new_list = [x*x for x in given_list]\n",
    "print(\"Squared values\",new_list)\n",
    "\n",
    "\n",
    "```\n"
   ]
  },
  {
   "cell_type": "code",
   "execution_count": null,
   "metadata": {
    "colab": {},
    "colab_type": "code",
    "id": "oewjbYQxgudr"
   },
   "outputs": [],
   "source": []
  },
  {
   "cell_type": "markdown",
   "metadata": {
    "colab_type": "text",
    "id": "xhec6vWWgvcG"
   },
   "source": [
    "**Example 2**\n",
    "\n",
    "Given a list of numbers, create a new list of numbers containing only even numbers\n",
    "\n",
    "```\n",
    "given_list = [1,2,3,4,5]\n",
    "\n",
    "# Old way of doing this.\n",
    "even_numbers = []\n",
    "for x in given_list:\n",
    "        if x % 2 == 0:\n",
    "                even_numbers.append(x)\n",
    "\n",
    "print(\"Even Numbers\",even_numbers)\n",
    "\n",
    "# Can achieve the same thing using list comprehensions.\n",
    "\n",
    "even_numbers = [x for x in given_list if x%2==0]\n",
    "print(\"Even Numbers\",even_numbers)\n",
    "\n",
    "\n",
    "```\n",
    "\n",
    "\n",
    "You can learn more about [list comprehensions here.](https://www.pythonforbeginners.com/basics/list-comprehensions-in-python)"
   ]
  },
  {
   "cell_type": "code",
   "execution_count": null,
   "metadata": {
    "colab": {},
    "colab_type": "code",
    "id": "MYnXtFg3ceVa"
   },
   "outputs": [],
   "source": []
  },
  {
   "cell_type": "markdown",
   "metadata": {
    "colab_type": "text",
    "id": "tUN-kUIQ4BX3"
   },
   "source": [
    "## Exception Hangling\n",
    "```\n",
    "try:\n",
    "    # Use \"raise\" to raise an error\n",
    "    raise IndexError(\"This is an index error\")\n",
    "except IndexError as e:\n",
    "    pass  # Pass is just a no-op. Usually you would do recovery here.\n",
    "except (TypeError, NameError):\n",
    "    pass  # Multiple exceptions can be handled together, if required.\n",
    "else:  # Optional clause to the try/except block. Must follow all except blocks\n",
    "    print \"All good!\"  # Runs only if the code in try raises no exceptions\n",
    "finally:  # Execute under all circumstances\n",
    "    print \"We can clean up resources here\"\n",
    "    \n",
    "```    "
   ]
  },
  {
   "cell_type": "code",
   "execution_count": null,
   "metadata": {
    "colab": {},
    "colab_type": "code",
    "id": "0UqfYDKq4HzS"
   },
   "outputs": [],
   "source": [
    "print(\"hey\")"
   ]
  },
  {
   "cell_type": "markdown",
   "metadata": {
    "colab_type": "text",
    "id": "QBt2KfR44MM2"
   },
   "source": [
    "## Functions\n",
    "\n",
    "Use \"def\" to create new functions. \n",
    "\n",
    "Functions can be used to create **`reuable parameterized code`**.\n",
    "\n",
    "```\n",
    "def add(x, y):\n",
    "    print \"x is {0} and y is {1}\".format(x, y)\n",
    "    return x + y  # Return values with a return statement\n",
    "    \n",
    "    ```\n",
    "    \n",
    "Calling functions with parameters\n",
    "\n",
    "```add(5, 6)  # => prints out \"x is 5 and y is 6\" and returns 11```\n",
    "\n",
    "Another way to call functions is with keyword arguments. They are also called `named arguments.`\n",
    "\n",
    "\n",
    "```add(y=6, x=5)  # Keyword arguments can arrive in any order.```"
   ]
  },
  {
   "cell_type": "code",
   "execution_count": null,
   "metadata": {
    "colab": {},
    "colab_type": "code",
    "id": "dhMvlVDR4OOK"
   },
   "outputs": [],
   "source": []
  },
  {
   "cell_type": "markdown",
   "metadata": {
    "colab_type": "text",
    "id": "yPLVuHdA4ssQ"
   },
   "source": [
    "#### Variable Arguments to Functions\n",
    "\n",
    "You can define functions that take a variable number of positional args, which will be interpreted as a tuple by using *\n",
    "```\n",
    "def varargs(*args):\n",
    "    return args\n",
    "\n",
    "\n",
    "varargs(1, 2, 3)  # => (1, 2, 3)\n",
    "```\n",
    "\n",
    "You can define functions that take a variable number of keyword args, as well, which will be interpreted as a dict by using **\n",
    "```\n",
    "def keyword_args(**kwargs):\n",
    "    return kwargs\n",
    "```\n",
    "\n",
    "Let's call it to see what happens\n",
    "```\n",
    "keyword_args(big=\"foot\", loch=\"ness\")  # => {\"big\": \"foot\", \"loch\": \"ness\"}\n",
    "```\n",
    "\n",
    "You can do both at once, if you like\n",
    "```\n",
    "def all_the_args(*args, **kwargs):\n",
    "    print args\n",
    "    print kwargs\n",
    "```"
   ]
  },
  {
   "cell_type": "code",
   "execution_count": null,
   "metadata": {
    "colab": {},
    "colab_type": "code",
    "id": "Y3HwJ6Vu4vUA"
   },
   "outputs": [],
   "source": []
  },
  {
   "cell_type": "markdown",
   "metadata": {
    "colab_type": "text",
    "id": "71XTQlOh5CSh"
   },
   "source": [
    "When calling functions, you can do the opposite of args/kwargs!\n",
    "\n",
    "Use * to expand positional args and use ** to expand keyword args.\n",
    "```\n",
    "args = (1, 2, 3, 4)\n",
    "kwargs = {\"a\": 3, \"b\": 4}\n",
    "\n",
    "all_the_args(*args)  # equivalent to all_the_args(1, 2, 3, 4)\n",
    "all_the_args(**kwargs)  # equivalent to all_the_args(a=3, b=4)\n",
    "all_the_args(*args, **kwargs)  # equivalent to all_the_args(1, 2, 3, 4, a=3, b=4)\n",
    "\n",
    "```"
   ]
  },
  {
   "cell_type": "code",
   "execution_count": null,
   "metadata": {
    "colab": {},
    "colab_type": "code",
    "id": "zqspJSz45Gvz"
   },
   "outputs": [],
   "source": []
  },
  {
   "cell_type": "markdown",
   "metadata": {
    "colab_type": "text",
    "id": "3G0VF0pwb6qk"
   },
   "source": [
    "####  Function Scope\n",
    "\n",
    "```\n",
    "x = 5\n",
    "def set_x(num):\n",
    "    # Local var x not the same as global variable x\n",
    "    x = num  # => 43\n",
    "    print(x)  # => 43\n",
    "\n",
    "def set_global_x(num):\n",
    "    global x\n",
    "    print(x)  # => 5\n",
    "    x = num  # global var x is now set to 6\n",
    "    print(x)  # => 6\n",
    "\n",
    "\n",
    "set_x(43)\n",
    "set_global_x(6)\n",
    "```"
   ]
  },
  {
   "cell_type": "code",
   "execution_count": null,
   "metadata": {
    "colab": {},
    "colab_type": "code",
    "id": "2eZK74EXcMjp"
   },
   "outputs": [],
   "source": []
  },
  {
   "cell_type": "markdown",
   "metadata": {
    "colab_type": "text",
    "id": "5_3j5aZM5QsE"
   },
   "source": [
    "#### Lambda Functions\n",
    "There are also anonymous functions.\n",
    "\n",
    "Most \n",
    "\n",
    "```\n",
    "(lambda x: x > 2)(3)  # => True\n",
    "(lambda x, y: x ** 2 + y ** 2)(2, 1)  # => 5\n",
    "```\n",
    "You can learn more about lambda functions [here.](https://medium.com/@happymishra66/lambda-map-and-filter-in-python-4935f248593)"
   ]
  },
  {
   "cell_type": "code",
   "execution_count": null,
   "metadata": {
    "colab": {},
    "colab_type": "code",
    "id": "HMFO9ase5cu4"
   },
   "outputs": [],
   "source": [
    "my_func = lambda x: x > 2\n",
    "my_func(3)"
   ]
  },
  {
   "cell_type": "code",
   "execution_count": null,
   "metadata": {
    "colab": {},
    "colab_type": "code",
    "id": "eOw3Cm-p5dLY"
   },
   "outputs": [],
   "source": []
  },
  {
   "cell_type": "markdown",
   "metadata": {
    "colab_type": "text",
    "id": "C3zib6Kq5ukn"
   },
   "source": [
    "#### Advanced Lambda Functions\n",
    "\n",
    "There are built-in higher order functions\n",
    "```\n",
    "map(add_10, [1, 2, 3])  # => [11, 12, 13]\n",
    "map(max, [1, 2, 3], [4, 2, 1])  # => [4, 2, 3]\n",
    "\n",
    "filter(lambda x: x > 5, [3, 4, 5, 6, 7])  # => [6, 7]\n",
    "```\n",
    "We can use list comprehensions for nice maps and filters\n",
    "```\n",
    "[add_10(i) for i in [1, 2, 3]]  # => [11, 12, 13]\n",
    "[x for x in [3, 4, 5, 6, 7] if x > 5]  # => [6, 7]\n",
    "\n",
    "```\n",
    "\n",
    "You can construct set and dict comprehensions as well.\n",
    "```\n",
    "{x for x in 'abcddeef' if x in 'abc'}  # => {'a', 'b', 'c'}\n",
    "{x: x ** 2 for x in range(5)}  # => {0: 0, 1: 1, 2: 4, 3: 9, 4: 16}\n",
    "```"
   ]
  },
  {
   "cell_type": "code",
   "execution_count": null,
   "metadata": {
    "colab": {},
    "colab_type": "code",
    "id": "vLbfchF85x9p"
   },
   "outputs": [],
   "source": []
  },
  {
   "cell_type": "markdown",
   "metadata": {
    "colab_type": "text",
    "id": "9VOjZgQmpsWc"
   },
   "source": [
    "## Modules And Packages\n",
    "\n",
    "Modules and Packages are a way to organize python code.\n",
    "\n",
    "A [module](https://docs.python.org/3/tutorial/modules.html) is a single file (or files) that are imported under one import and used. e.g.\n",
    "\n",
    "```\n",
    "import my_module\n",
    "```\n",
    "\n",
    "A [package](http://www.network-theory.co.uk/docs/pytut/Packages.html) is a collection of modules in directories that give a package hierarchy.\n",
    "\n",
    "```\n",
    "from my_package.timing.danger.internets import function_of_love\n",
    "```"
   ]
  },
  {
   "cell_type": "markdown",
   "metadata": {},
   "source": [
    "### Reading and Writing Files\n",
    "```\n",
    "print(a)\n",
    "```"
   ]
  },
  {
   "cell_type": "code",
   "execution_count": null,
   "metadata": {},
   "outputs": [],
   "source": []
  },
  {
   "cell_type": "code",
   "execution_count": null,
   "metadata": {},
   "outputs": [],
   "source": []
  },
  {
   "cell_type": "markdown",
   "metadata": {
    "colab_type": "text",
    "id": "_XOJ8vZMjI9b"
   },
   "source": [
    "\n",
    "\n",
    "### `Math` module\n",
    "\n",
    "You can import modules\n",
    "import math\n",
    "```\n",
    "print math.sqrt(16)  # => 4\n",
    "```\n",
    "\n",
    "You can get specific functions from a module\n",
    "```\n",
    "from math import ceil, floor\n",
    "\n",
    "print ceil(3.7)  # => 4.0\n",
    "print floor(3.7)  # => 3.0\n",
    "```\n",
    "\n",
    "You can import all functions from a module. **Warning: this is not recommended**\n",
    "```\n",
    "from math import *\n",
    "```\n",
    "\n",
    "You can shorten module names\n",
    "```\n",
    "import math as m\n",
    "\n",
    "math.sqrt(16) == m.sqrt(16)  # => True\n",
    "```\n",
    "\n",
    "you can also test that the functions are equivalent\n",
    "```\n",
    "from math import sqrt\n",
    "\n",
    "math.sqrt == m.sqrt == sqrt  # => True\n",
    "```\n",
    "Python modules are just ordinary python files. You\n",
    "can write your own, and import them. The name of the\n",
    "module is the same as the name of the file.\n",
    "\n",
    "You can find out which functions and attributes defines a module.\n",
    "\n",
    "```\n",
    "import math\n",
    "\n",
    "dir(math)\n",
    "```"
   ]
  },
  {
   "cell_type": "code",
   "execution_count": null,
   "metadata": {
    "colab": {},
    "colab_type": "code",
    "id": "8Hda6d4sqULt"
   },
   "outputs": [],
   "source": []
  },
  {
   "cell_type": "markdown",
   "metadata": {
    "colab_type": "text",
    "id": "3pjgzGE5penJ"
   },
   "source": [
    "### `Json` module"
   ]
  },
  {
   "cell_type": "code",
   "execution_count": null,
   "metadata": {
    "colab": {},
    "colab_type": "code",
    "id": "kScAPredjLRX"
   },
   "outputs": [],
   "source": []
  },
  {
   "cell_type": "markdown",
   "metadata": {
    "colab_type": "text",
    "id": "NvGNsMA-pkyD"
   },
   "source": [
    "### `Collections` module"
   ]
  },
  {
   "cell_type": "code",
   "execution_count": null,
   "metadata": {
    "colab": {},
    "colab_type": "code",
    "id": "nUbqEgvFpnm7"
   },
   "outputs": [],
   "source": []
  }
 ],
 "metadata": {
  "colab": {
   "collapsed_sections": [],
   "name": "Basic Python.ipynb",
   "provenance": [],
   "toc_visible": true,
   "version": "0.3.2"
  },
  "kernelspec": {
   "display_name": "Python 3",
   "language": "python",
   "name": "python3"
  },
  "language_info": {
   "codemirror_mode": {
    "name": "ipython",
    "version": 3
   },
   "file_extension": ".py",
   "mimetype": "text/x-python",
   "name": "python",
   "nbconvert_exporter": "python",
   "pygments_lexer": "ipython3",
   "version": "3.6.5"
  }
 },
 "nbformat": 4,
 "nbformat_minor": 2
}
